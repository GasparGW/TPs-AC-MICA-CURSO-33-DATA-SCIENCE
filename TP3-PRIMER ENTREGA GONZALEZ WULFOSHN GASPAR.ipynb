{
 "cells": [
  {
   "cell_type": "markdown",
   "metadata": {},
   "source": [
    "# Proyecto 03 - Procesamiento del Lenguaje Natural\n",
    "\n",
    "\n",
    "## TP III GASPAR GONZALEZ WULFSOHN"
   ]
  },
  {
   "cell_type": "markdown",
   "metadata": {},
   "source": [
    "Vamos a trabajar con el corpus de críticas sobre productos adquiridos por usuarios de la plataforma AMAZON. Para realizar este informe tuvimos en cuenta la suiguiente licencia.\n",
    "\n",
    "LICENSE\n",
    "\n",
    "By accessing the Multilingual Amazon Reviews Corpus (\"Reviews Corpus\"), you agree that the Reviews Corpus is an Amazon Service subject to the Amazon.com Conditions of Use (https://www.amazon.com/gp/help/customer/display.html/ref=footer_cou?ie=UTF8&nodeId=508088) and you agree to be bound by them, with the following additional conditions:\n",
    "\n",
    "In addition to the license rights granted under the Conditions of Use, Amazon or its content providers grant you a limited, non-exclusive, non-transferable, non-sublicensable, revocable license to access and use the Reviews Corpus for purposes of academic research. You may not resell, republish, or make any commercial use of the Reviews Corpus or its contents, including use of the Reviews Corpus for commercial research, such as research related to a funding or consultancy contract, internship, or other relationship in which the results are provided for a fee or delivered to a for-profit organization. You may not (a) link or associate content in the Reviews Corpus with any personal information (including Amazon customer accounts), or (b) attempt to determine the identity of the author of any content in the Reviews Corpus. If you violate any of the foregoing conditions, your license to access and use the Reviews Corpus will automatically terminate without prejudice to any of the other rights or remedies Amazon may have."
   ]
  },
  {
   "cell_type": "markdown",
   "metadata": {},
   "source": [
    "## Exploración de datos y Procesamiento del Lenguaje Natural"
   ]
  },
  {
   "cell_type": "markdown",
   "metadata": {},
   "source": [
    "### Importamos las librerías necesarias para realizar el trabajo\n"
   ]
  },
  {
   "cell_type": "code",
   "execution_count": 1,
   "metadata": {},
   "outputs": [
    {
     "name": "stderr",
     "output_type": "stream",
     "text": [
      "[nltk_data] Downloading package punkt to\n",
      "[nltk_data]     C:\\Users\\gaspa\\AppData\\Roaming\\nltk_data...\n",
      "[nltk_data]   Package punkt is already up-to-date!\n",
      "[nltk_data] Downloading package stopwords to\n",
      "[nltk_data]     C:\\Users\\gaspa\\AppData\\Roaming\\nltk_data...\n",
      "[nltk_data]   Package stopwords is already up-to-date!\n"
     ]
    }
   ],
   "source": [
    "import numpy as np\n",
    "import pandas as pd\n",
    "import matplotlib.pyplot as plt\n",
    "import seaborn as sns\n",
    "sns.set()\n",
    "import itertools\n",
    "import nltk\n",
    "import pandas as pd\n",
    "import numpy as np\n",
    "import xgboost as xgb\n",
    "from sklearn.svm import SVC\n",
    "from sklearn import preprocessing, decomposition, model_selection, metrics, pipeline\n",
    "from sklearn.model_selection import GridSearchCV\n",
    "from sklearn.feature_extraction.text import TfidfVectorizer, CountVectorizer\n",
    "from sklearn.feature_extraction.text import CountVectorizer\n",
    "from sklearn.naive_bayes import GaussianNB\n",
    "from sklearn.decomposition import TruncatedSVD\n",
    "from sklearn.linear_model import LogisticRegression\n",
    "from sklearn.model_selection import train_test_split\n",
    "from sklearn.naive_bayes import MultinomialNB\n",
    "from sklearn.metrics import classification_report\n",
    "from sklearn.svm import LinearSVC\n",
    "from nltk import word_tokenize\n",
    "from nltk.corpus import stopwords\n",
    "stop_words = stopwords.words('spanish')\n",
    "nltk.download('punkt')\n",
    "nltk.download('stopwords')\n",
    "from nltk.tokenize.toktok import ToktokTokenizer\n",
    "import re\n",
    "import string\n",
    "from sklearn.model_selection import train_test_split\n",
    "from bs4 import BeautifulSoup\n",
    "import unicodedata\n",
    "tokenizer = ToktokTokenizer()\n",
    "stopword_list = nltk.corpus.stopwords.words('spanish')\n",
    "stopword_list.remove('no')\n",
    "import spacy  \n",
    "from wordcloud import WordCloud\n",
    "from sklearn.metrics import accuracy_score\n",
    "import nltk\n",
    "#nltk.download()\n",
    "from sklearn.feature_extraction.text import TfidfTransformer \n",
    "from sklearn import metrics\n",
    "from sklearn.ensemble import RandomForestClassifier\n",
    "from sklearn.preprocessing import LabelBinarizer\n",
    "from sklearn.preprocessing import OneHotEncoder\n",
    "from sklearn.metrics import confusion_matrix\n",
    "import seaborn as sns\n",
    "from sklearn.metrics import r2_score\n",
    "from sklearn.ensemble import AdaBoostRegressor\n",
    "from sklearn.model_selection import cross_val_score\n",
    "from sklearn.tree import DecisionTreeRegressor\n",
    "from sklearn.model_selection import GridSearchCV\n",
    "import matplotlib.pyplot as plt\n",
    "import seaborn\n",
    "from unicodedata import normalize\n",
    "import warnings\n",
    "warnings.filterwarnings('ignore')\n",
    "from sklearn.metrics import accuracy_score\n",
    "from sklearn.model_selection import GridSearchCV\n",
    "from sklearn.model_selection import RandomizedSearchCV\n",
    "from xgboost import XGBClassifier\n",
    "import xgboost as xgb"
   ]
  },
  {
   "cell_type": "markdown",
   "metadata": {},
   "source": [
    "## 1. Carga de datos\n",
    "### Cargamos los datos en formato .json\n",
    "Vamos a cargar los datos con la función pd.read_json de Pandas y obtener una idea precisa del dataframe"
   ]
  },
  {
   "cell_type": "code",
   "execution_count": 2,
   "metadata": {},
   "outputs": [],
   "source": [
    "df_train = pd.read_json ('dataset_es_train.json', lines = True)"
   ]
  },
  {
   "cell_type": "code",
   "execution_count": 3,
   "metadata": {},
   "outputs": [
    {
     "data": {
      "text/plain": [
       "(200000, 8)"
      ]
     },
     "execution_count": 3,
     "metadata": {},
     "output_type": "execute_result"
    }
   ],
   "source": [
    "df_train.shape"
   ]
  },
  {
   "cell_type": "code",
   "execution_count": 4,
   "metadata": {},
   "outputs": [],
   "source": [
    "df_test = pd.read_json ('dataset_es_test.json', lines = True)"
   ]
  },
  {
   "cell_type": "code",
   "execution_count": 5,
   "metadata": {},
   "outputs": [
    {
     "data": {
      "text/plain": [
       "(5000, 8)"
      ]
     },
     "execution_count": 5,
     "metadata": {},
     "output_type": "execute_result"
    }
   ],
   "source": [
    "df_test.shape"
   ]
  },
  {
   "cell_type": "code",
   "execution_count": 6,
   "metadata": {},
   "outputs": [],
   "source": [
    "df_dev = pd.read_json ('dataset_es_dev.json', lines = True)"
   ]
  },
  {
   "cell_type": "code",
   "execution_count": 7,
   "metadata": {},
   "outputs": [
    {
     "data": {
      "text/plain": [
       "(5000, 8)"
      ]
     },
     "execution_count": 7,
     "metadata": {},
     "output_type": "execute_result"
    }
   ],
   "source": [
    "df_dev.shape"
   ]
  },
  {
   "cell_type": "markdown",
   "metadata": {},
   "source": [
    "Vamos a unir todos los datos en un mismo dataframe para poder aprovechar la mayor cantidad de datos posibles"
   ]
  },
  {
   "cell_type": "code",
   "execution_count": 8,
   "metadata": {},
   "outputs": [],
   "source": [
    "# Unimos todos los datos en un mismo dataframe\n",
    "df_merge = [df_test, df_train, df_dev]\n",
    "df = pd.concat(df_merge )\n"
   ]
  },
  {
   "cell_type": "code",
   "execution_count": 9,
   "metadata": {},
   "outputs": [
    {
     "data": {
      "text/plain": [
       "(210000, 8)"
      ]
     },
     "execution_count": 9,
     "metadata": {},
     "output_type": "execute_result"
    }
   ],
   "source": [
    "# Obtenemos la cantidad de filas y columnas total del dataframe\n",
    "df.shape"
   ]
  },
  {
   "cell_type": "markdown",
   "metadata": {},
   "source": [
    "Vamos arealizar una muestra aleatoria con el objetivo de reducir el tamaño y poder trabajar con los datos"
   ]
  },
  {
   "cell_type": "code",
   "execution_count": 10,
   "metadata": {},
   "outputs": [],
   "source": [
    "# Muestra aleatoria de 50000 instancias\n",
    "experiment_size = int(50000)\n",
    "completerandom_idx = df_train.sample(int(experiment_size),random_state = 21).index\n",
    "df = df_train.loc[completerandom_idx,:]\n"
   ]
  },
  {
   "cell_type": "code",
   "execution_count": 11,
   "metadata": {},
   "outputs": [
    {
     "data": {
      "text/plain": [
       "(50000, 8)"
      ]
     },
     "execution_count": 11,
     "metadata": {},
     "output_type": "execute_result"
    }
   ],
   "source": [
    "# 50.000 filas y 8 columnas\n",
    "df.shape"
   ]
  },
  {
   "cell_type": "markdown",
   "metadata": {},
   "source": [
    "Vamos a realizar un gráfico para entender cuantas instancias hay en cada calificación"
   ]
  },
  {
   "cell_type": "code",
   "execution_count": 12,
   "metadata": {},
   "outputs": [
    {
     "data": {
      "text/plain": [
       "<matplotlib.axes._subplots.AxesSubplot at 0x19b18d2f1c0>"
      ]
     },
     "execution_count": 12,
     "metadata": {},
     "output_type": "execute_result"
    },
    {
     "data": {
      "image/png": "[encoded data removed]",
      "text/plain": [
       "<Figure size 432x288 with 1 Axes>"
      ]
     },
     "metadata": {},
     "output_type": "display_data"
    }
   ],
   "source": [
    "# Realizamos un countplot con seaborn\n",
    "sns.countplot(x='stars',data=df,palette='rainbow')"
   ]
  },
  {
   "cell_type": "markdown",
   "metadata": {},
   "source": [
    "Existen casi la misma cantidad de instancias por calificación. \n",
    "\n",
    "Vamos a agrupar según las estrellas."
   ]
  },
  {
   "cell_type": "code",
   "execution_count": 13,
   "metadata": {},
   "outputs": [
    {
     "data": {
      "text/plain": [
       "stars\n",
       "1    10010\n",
       "2     9976\n",
       "3    10071\n",
       "4     9949\n",
       "5     9994\n",
       "dtype: int64"
      ]
     },
     "execution_count": 13,
     "metadata": {},
     "output_type": "execute_result"
    }
   ],
   "source": [
    "# Utilizamos la función groupby y luego obtenemos la cantidad de instancias por estrella calificada\n",
    "stars = df.groupby('stars')\n",
    "stars.size()"
   ]
  },
  {
   "cell_type": "markdown",
   "metadata": {},
   "source": [
    "Vamos a filtrar el dataframe de modo tal que todas las estrellas tengan la misma cantidad de instancias. "
   ]
  },
  {
   "cell_type": "code",
   "execution_count": 14,
   "metadata": {},
   "outputs": [],
   "source": [
    "# Unimos todos los datos en un mismo dataframe\n",
    "df_merge = [df_test, df_train, df_dev]\n",
    "df = pd.concat(df_merge )\n"
   ]
  },
  {
   "cell_type": "code",
   "execution_count": 15,
   "metadata": {},
   "outputs": [
    {
     "data": {
      "text/plain": [
       "(210000, 8)"
      ]
     },
     "execution_count": 15,
     "metadata": {},
     "output_type": "execute_result"
    }
   ],
   "source": [
    "df.shape"
   ]
  },
  {
   "cell_type": "markdown",
   "metadata": {},
   "source": [
    "Volvemos a obtener una muestra aleatoria "
   ]
  },
  {
   "cell_type": "code",
   "execution_count": 16,
   "metadata": {},
   "outputs": [],
   "source": [
    "# Muestra aleatoria de 60000 instancias\n",
    "experiment_size = int(60000)\n",
    "completerandom_idx = df_train.sample(int(experiment_size),random_state = 21).index\n",
    "df = df_train.loc[completerandom_idx,:]"
   ]
  },
  {
   "cell_type": "code",
   "execution_count": 17,
   "metadata": {},
   "outputs": [
    {
     "data": {
      "text/plain": [
       "(60000, 8)"
      ]
     },
     "execution_count": 17,
     "metadata": {},
     "output_type": "execute_result"
    }
   ],
   "source": [
    "df.shape"
   ]
  },
  {
   "cell_type": "markdown",
   "metadata": {},
   "source": [
    "Realizamos un slice y luego unimos los dataframes en uno solo. El objetivo es tener la misma cantidad de instancias por estrella. De esa forma podemos obtener un modelo benchmark que sea la posibilidad de acertar entre 5 instancias. "
   ]
  },
  {
   "cell_type": "code",
   "execution_count": 18,
   "metadata": {},
   "outputs": [],
   "source": [
    "# Realizamos un filtrado por número de estrellas y luego un slice de 10000\n",
    "stars_1 = pd.DataFrame(df[df.stars == 1])[:10000]\n",
    "stars_2 = pd.DataFrame(df[df.stars == 2])[:10000]\n",
    "stars_3 = pd.DataFrame(df[df.stars == 3])[:10000]\n",
    "stars_4 = pd.DataFrame(df[df.stars == 4])[:10000]\n",
    "stars_5 = pd.DataFrame(df[df.stars == 5])[:10000]"
   ]
  },
  {
   "cell_type": "code",
   "execution_count": 19,
   "metadata": {},
   "outputs": [],
   "source": [
    "# Unimos en un mismo dataframe\n",
    "df_merge = [stars_1, stars_2, stars_3, stars_4, stars_5]\n",
    "df = pd.concat(df_merge )"
   ]
  },
  {
   "cell_type": "code",
   "execution_count": 20,
   "metadata": {},
   "outputs": [
    {
     "data": {
      "text/plain": [
       "<matplotlib.axes._subplots.AxesSubplot at 0x19b22b66dc0>"
      ]
     },
     "execution_count": 20,
     "metadata": {},
     "output_type": "execute_result"
    },
    {
     "data": {
      "image/png": "[encoded data removed]",
      "text/plain": [
       "<Figure size 432x288 with 1 Axes>"
      ]
     },
     "metadata": {},
     "output_type": "display_data"
    }
   ],
   "source": [
    "# Realizamos un countplot con seaborn\n",
    "sns.countplot(x='stars',data=df,palette='rainbow')"
   ]
  },
  {
   "cell_type": "markdown",
   "metadata": {},
   "source": [
    "En el gráfico podemos observar una distribución homogénea."
   ]
  },
  {
   "cell_type": "code",
   "execution_count": 21,
   "metadata": {},
   "outputs": [
    {
     "data": {
      "text/plain": [
       "stars\n",
       "1    10000\n",
       "2    10000\n",
       "3    10000\n",
       "4    10000\n",
       "5    10000\n",
       "dtype: int64"
      ]
     },
     "execution_count": 21,
     "metadata": {},
     "output_type": "execute_result"
    }
   ],
   "source": [
    "# Agrupamos por la columnas 'stars'\n",
    "stars = df.groupby('stars')\n",
    "stars.size()"
   ]
  },
  {
   "cell_type": "markdown",
   "metadata": {},
   "source": [
    "Finalmente obtuvimos la misma cantidad de instancias por número de estrellas calificadas para comenzar a trabajar"
   ]
  },
  {
   "cell_type": "markdown",
   "metadata": {},
   "source": [
    "## Ingeniería de datos\n",
    "\n",
    "Vamos a añadir algunas features relacionadas con los textos de las críticas.\n",
    "    \n",
    "    1. Largo del texto.\n",
    "    \n",
    "    2. Número de palabras"
   ]
  },
  {
   "cell_type": "markdown",
   "metadata": {},
   "source": [
    "Luego intentaremos contestar algunas preguntas en relación a esas nuevas variables:\n",
    "¿Influye el largo del texto en el tipo de calificación? ¿y el número de palabras?"
   ]
  },
  {
   "cell_type": "code",
   "execution_count": 22,
   "metadata": {},
   "outputs": [],
   "source": [
    "# Largo del texto\n",
    "df['text_length'] = df['review_body'].apply(len)"
   ]
  },
  {
   "cell_type": "code",
   "execution_count": 23,
   "metadata": {},
   "outputs": [],
   "source": [
    "# Número de palabras\n",
    "df['nb_words'] = df['review_body'].apply(lambda x: len(x.split(\" \")))"
   ]
  },
  {
   "cell_type": "code",
   "execution_count": 24,
   "metadata": {},
   "outputs": [
    {
     "data": {
      "text/html": [
       "<div>\n",
       "<style scoped>\n",
       "    .dataframe tbody tr th:only-of-type {\n",
       "        vertical-align: middle;\n",
       "    }\n",
       "\n",
       "    .dataframe tbody tr th {\n",
       "        vertical-align: top;\n",
       "    }\n",
       "\n",
       "    .dataframe thead th {\n",
       "        text-align: right;\n",
       "    }\n",
       "</style>\n",
       "<table border=\"1\" class=\"dataframe\">\n",
       "  <thead>\n",
       "    <tr style=\"text-align: right;\">\n",
       "      <th></th>\n",
       "      <th>review_id</th>\n",
       "      <th>product_id</th>\n",
       "      <th>reviewer_id</th>\n",
       "      <th>stars</th>\n",
       "      <th>review_body</th>\n",
       "      <th>review_title</th>\n",
       "      <th>language</th>\n",
       "      <th>product_category</th>\n",
       "      <th>text_length</th>\n",
       "      <th>nb_words</th>\n",
       "    </tr>\n",
       "  </thead>\n",
       "  <tbody>\n",
       "    <tr>\n",
       "      <th>6468</th>\n",
       "      <td>es_0476668</td>\n",
       "      <td>product_es_0773990</td>\n",
       "      <td>reviewer_es_0443238</td>\n",
       "      <td>1</td>\n",
       "      <td>A la espera de que llegue, tres días desde la ...</td>\n",
       "      <td>No me ha llegado</td>\n",
       "      <td>es</td>\n",
       "      <td>home</td>\n",
       "      <td>101</td>\n",
       "      <td>21</td>\n",
       "    </tr>\n",
       "    <tr>\n",
       "      <th>14064</th>\n",
       "      <td>es_0372690</td>\n",
       "      <td>product_es_0019996</td>\n",
       "      <td>reviewer_es_0925676</td>\n",
       "      <td>1</td>\n",
       "      <td>El producto está muy bien, fácil de montar, pr...</td>\n",
       "      <td>El problema está en los plazos de entrega.</td>\n",
       "      <td>es</td>\n",
       "      <td>home</td>\n",
       "      <td>325</td>\n",
       "      <td>61</td>\n",
       "    </tr>\n",
       "    <tr>\n",
       "      <th>20862</th>\n",
       "      <td>es_0127411</td>\n",
       "      <td>product_es_0301699</td>\n",
       "      <td>reviewer_es_0468082</td>\n",
       "      <td>1</td>\n",
       "      <td>Después de 2 meses, ni he recibido las diadema...</td>\n",
       "      <td>MUY MALA EXPERIENCIA</td>\n",
       "      <td>es</td>\n",
       "      <td>apparel</td>\n",
       "      <td>77</td>\n",
       "      <td>15</td>\n",
       "    </tr>\n",
       "  </tbody>\n",
       "</table>\n",
       "</div>"
      ],
      "text/plain": [
       "        review_id          product_id          reviewer_id  stars  \\\n",
       "6468   es_0476668  product_es_0773990  reviewer_es_0443238      1   \n",
       "14064  es_0372690  product_es_0019996  reviewer_es_0925676      1   \n",
       "20862  es_0127411  product_es_0301699  reviewer_es_0468082      1   \n",
       "\n",
       "                                             review_body  \\\n",
       "6468   A la espera de que llegue, tres días desde la ...   \n",
       "14064  El producto está muy bien, fácil de montar, pr...   \n",
       "20862  Después de 2 meses, ni he recibido las diadema...   \n",
       "\n",
       "                                     review_title language product_category  \\\n",
       "6468                             No me ha llegado       es             home   \n",
       "14064  El problema está en los plazos de entrega.       es             home   \n",
       "20862                        MUY MALA EXPERIENCIA       es          apparel   \n",
       "\n",
       "       text_length  nb_words  \n",
       "6468           101        21  \n",
       "14064          325        61  \n",
       "20862           77        15  "
      ]
     },
     "execution_count": 24,
     "metadata": {},
     "output_type": "execute_result"
    }
   ],
   "source": [
    "df.head(3)"
   ]
  },
  {
   "cell_type": "markdown",
   "metadata": {},
   "source": [
    "Realiamos unas estadísticas básicas sobre el feature 'text_length'"
   ]
  },
  {
   "cell_type": "code",
   "execution_count": 25,
   "metadata": {},
   "outputs": [
    {
     "data": {
      "text/plain": [
       "count    50000.0\n",
       "mean       151.0\n",
       "std        131.0\n",
       "min         17.0\n",
       "25%         68.0\n",
       "50%        120.0\n",
       "75%        186.0\n",
       "max       2023.0\n",
       "Name: text_length, dtype: float64"
      ]
     },
     "execution_count": 25,
     "metadata": {},
     "output_type": "execute_result"
    }
   ],
   "source": [
    "(df.text_length).describe().round()"
   ]
  },
  {
   "cell_type": "markdown",
   "metadata": {},
   "source": [
    "Vemos que hasta el tercer cuartil el largo del texto es de 186. Vamos a buscar la crítica más larga y ver que calificación tuvo."
   ]
  },
  {
   "cell_type": "code",
   "execution_count": 26,
   "metadata": {},
   "outputs": [
    {
     "name": "stdout",
     "output_type": "stream",
     "text": [
      "27939    El producto no esta mal en cuanto a sonido y f...\n",
      "Name: review_body, dtype: object\n"
     ]
    }
   ],
   "source": [
    "# Buscamos la crítica más larga\n",
    "max_length = (df.text_length == 2023)\n",
    "print(df[max_length].review_body)"
   ]
  },
  {
   "cell_type": "code",
   "execution_count": 27,
   "metadata": {},
   "outputs": [
    {
     "data": {
      "text/html": [
       "<div>\n",
       "<style scoped>\n",
       "    .dataframe tbody tr th:only-of-type {\n",
       "        vertical-align: middle;\n",
       "    }\n",
       "\n",
       "    .dataframe tbody tr th {\n",
       "        vertical-align: top;\n",
       "    }\n",
       "\n",
       "    .dataframe thead th {\n",
       "        text-align: right;\n",
       "    }\n",
       "</style>\n",
       "<table border=\"1\" class=\"dataframe\">\n",
       "  <thead>\n",
       "    <tr style=\"text-align: right;\">\n",
       "      <th></th>\n",
       "      <th>review_id</th>\n",
       "      <th>product_id</th>\n",
       "      <th>reviewer_id</th>\n",
       "      <th>stars</th>\n",
       "      <th>review_body</th>\n",
       "      <th>review_title</th>\n",
       "      <th>language</th>\n",
       "      <th>product_category</th>\n",
       "      <th>text_length</th>\n",
       "      <th>nb_words</th>\n",
       "    </tr>\n",
       "  </thead>\n",
       "  <tbody>\n",
       "    <tr>\n",
       "      <th>27939</th>\n",
       "      <td>es_0382650</td>\n",
       "      <td>product_es_0150804</td>\n",
       "      <td>reviewer_es_0769920</td>\n",
       "      <td>1</td>\n",
       "      <td>El producto no esta mal en cuanto a sonido y f...</td>\n",
       "      <td>No lo puedo recomendar para hacer deporte</td>\n",
       "      <td>es</td>\n",
       "      <td>wireless</td>\n",
       "      <td>2023</td>\n",
       "      <td>388</td>\n",
       "    </tr>\n",
       "  </tbody>\n",
       "</table>\n",
       "</div>"
      ],
      "text/plain": [
       "        review_id          product_id          reviewer_id  stars  \\\n",
       "27939  es_0382650  product_es_0150804  reviewer_es_0769920      1   \n",
       "\n",
       "                                             review_body  \\\n",
       "27939  El producto no esta mal en cuanto a sonido y f...   \n",
       "\n",
       "                                    review_title language product_category  \\\n",
       "27939  No lo puedo recomendar para hacer deporte       es         wireless   \n",
       "\n",
       "       text_length  nb_words  \n",
       "27939         2023       388  "
      ]
     },
     "execution_count": 27,
     "metadata": {},
     "output_type": "execute_result"
    }
   ],
   "source": [
    "df[max_length]"
   ]
  },
  {
   "cell_type": "markdown",
   "metadata": {},
   "source": [
    "Vemos que la crítica más extensa tuvo una califiación mala, de una estrella. ¿Las críticas extensas tienden a ser malas?"
   ]
  },
  {
   "cell_type": "code",
   "execution_count": 28,
   "metadata": {},
   "outputs": [
    {
     "data": {
      "text/plain": [
       "'El producto no esta mal en cuanto a sonido y funcionamient, ademas habia leido reviews muy buenas, además da una primera sensación de calidad muy buena, pero no puedo recomendarlo para hacer deporte de ninguna de las maneras. El primer dia no se escuchaba bien, resulta que a base de poner y quitar los auriculares varias veces al final se fue solucionando poco a poco, debía venir con el conector sucio o a saber. Aun asi a veces si giras el conector se corta el audio. El tacto de los botones deja bastante que desear, sobretodo el de encendido que en mi caso no sabes si esta pulsado o no a no ser que mires la pantalla a ver si ha hecho algo. La pantalla es pésima a la luz del día, incluso en un dia nublado no se ve, me ha sido imposible buscar una canción mirando la lista ya que a no ser que fuese de noche en la calle era imposible leer la pantalla ni siquiera tapandola con ambas manos, muy poco brillo y no es ajustable. La calidad de sonido excepcional una vez hace buen contacto, todo hay que decirlo y los cascos son una maravilla todo y ser de plástico duro, cómodos, se escuchan bien, me ha sorprendido gratamente. En cuanto a usabilidad.... digamos que ya no lo puedo usar y hace un mes que lo tengo. Lo compré para hacer deporte, el primer defecto fue que no podía ver la pantalla de ninguna forma fuera de casa, ni tapandola como decía antes, pero es que además a los 4 dias de llevarlo el clip se rompió y no por tratarlo mal o por darle un tirón, precisamente para evitar darle tirones a los cables o golpes con los brazos me lo pongo por detrás en la cintura. Cual fue mi sorpresa que al cuarto dia al rato de hacer jogging me doy cuenta que lo llevo colgando y más tarde encontré el clip en el suelo partido, sin haberlo forzado ni nada, personalmente no me extraña el plástico es endeble y igual de fino o más que la punta de un boli que es de metal. Lo recomiendo como mp3 para llevar en el bolsillo, no puedo en cambio recomendarlo si buscas algo con clip, yo al menos he quedado muy decepcionado.'"
      ]
     },
     "execution_count": 28,
     "metadata": {},
     "output_type": "execute_result"
    }
   ],
   "source": [
    "# Buscamos la crítica más extensa\n",
    "df[df['text_length'] == 2023]['review_body'].iloc[0]"
   ]
  },
  {
   "cell_type": "markdown",
   "metadata": {},
   "source": [
    "Evidentemente es un usuario que no está para nada conforme con el producto"
   ]
  },
  {
   "cell_type": "markdown",
   "metadata": {},
   "source": [
    "Vamos a realizar histogramas para entender la distribución en el feature 'text_length'"
   ]
  },
  {
   "cell_type": "code",
   "execution_count": 29,
   "metadata": {},
   "outputs": [
    {
     "data": {
      "text/plain": [
       "<matplotlib.axes._subplots.AxesSubplot at 0x19b24268f70>"
      ]
     },
     "execution_count": 29,
     "metadata": {},
     "output_type": "execute_result"
    },
    {
     "data": {
      "image/png": "[encoded data removed]",
      "text/plain": [
       "<Figure size 432x288 with 1 Axes>"
      ]
     },
     "metadata": {},
     "output_type": "display_data"
    }
   ],
   "source": [
    "# Histograma con seaborn\n",
    "sns.distplot(df.text_length)"
   ]
  },
  {
   "cell_type": "code",
   "execution_count": 30,
   "metadata": {},
   "outputs": [
    {
     "data": {
      "text/plain": [
       "<matplotlib.axes._subplots.AxesSubplot at 0x19b2f859ac0>"
      ]
     },
     "execution_count": 30,
     "metadata": {},
     "output_type": "execute_result"
    },
    {
     "data": {
      "image/png": "[encoded data removed]",
      "text/plain": [
       "<Figure size 432x288 with 1 Axes>"
      ]
     },
     "metadata": {},
     "output_type": "display_data"
    }
   ],
   "source": [
    "# Histograma con matloplib\n",
    "df['text_length'].plot(bins=100, kind='hist') "
   ]
  },
  {
   "cell_type": "markdown",
   "metadata": {},
   "source": [
    "En ambos gráficos observamos un sesgo hacia la derecha y una distribución bimodal. La mayor frecuencia se encuentra en dos picos, las críticas hasta 100 palabras y de alrededor de 200. \n",
    "\n",
    "Las críticas que tienen una longitud mayor a 250 palabras tien una frecuencia menor."
   ]
  },
  {
   "cell_type": "markdown",
   "metadata": {},
   "source": [
    "Vamos a realizar un gráfico para identificar si hay alguna relación entre el largo del texto y el tipo de críticas."
   ]
  },
  {
   "cell_type": "code",
   "execution_count": 31,
   "metadata": {},
   "outputs": [
    {
     "data": {
      "text/plain": [
       "<seaborn.axisgrid.FacetGrid at 0x19b3ff4f640>"
      ]
     },
     "execution_count": 31,
     "metadata": {},
     "output_type": "execute_result"
    },
    {
     "data": {
      "image/png": "[encoded data removed]",
      "text/plain": [
       "<Figure size 1080x216 with 5 Axes>"
      ]
     },
     "metadata": {},
     "output_type": "display_data"
    }
   ],
   "source": [
    "# Realizamos un gráfico de barras con seaborn\n",
    "g = sns.FacetGrid(df,col='stars')\n",
    "g.map(plt.hist,'text_length')"
   ]
  },
  {
   "cell_type": "markdown",
   "metadata": {},
   "source": [
    "Las ditribuciones del largo de texto en relación a las calificaciones son homogéneas, no habría una correlación entre el número de palabras y el número de estrellas. Vamos a realizar un gráfico de boxplot para confirmar."
   ]
  },
  {
   "cell_type": "code",
   "execution_count": 32,
   "metadata": {},
   "outputs": [
    {
     "data": {
      "text/plain": [
       "<matplotlib.axes._subplots.AxesSubplot at 0x19b42915340>"
      ]
     },
     "execution_count": 32,
     "metadata": {},
     "output_type": "execute_result"
    },
    {
     "data": {
      "image/png": "[encoded data removed]",
      "text/plain": [
       "<Figure size 432x288 with 1 Axes>"
      ]
     },
     "metadata": {},
     "output_type": "display_data"
    }
   ],
   "source": [
    "# Realizamos un gráfico de boxplot con seaborn\n",
    "sns.boxplot(x='stars',y='text_length',data=df,palette='rainbow')"
   ]
  },
  {
   "cell_type": "markdown",
   "metadata": {},
   "source": [
    "Nuevamente podemos observar que las distribuciones del largo del texto en cada estrella son similares, concluyendo que no existe una relación entre el largo del texto  y la calificación. "
   ]
  },
  {
   "cell_type": "markdown",
   "metadata": {},
   "source": [
    "## Preprocesamiento del texto\n",
    "\n",
    "Vamos a realizar un preprocesamiento del texto, quitando las stopword en español y signos, llevando todos los caracteres a minúscula, stemmizando y finalmente tokenizando. "
   ]
  },
  {
   "cell_type": "code",
   "execution_count": 33,
   "metadata": {},
   "outputs": [],
   "source": [
    "# Instanciamos las stopwords del español\n",
    "stopwords = nltk.corpus.stopwords.words('spanish')\n"
   ]
  },
  {
   "cell_type": "code",
   "execution_count": 34,
   "metadata": {},
   "outputs": [],
   "source": [
    "# Importamos la función que nos permite Stemmizar de nltk y definimos el stemmer\n",
    "from nltk.stem import PorterStemmer\n",
    "stemmer = PorterStemmer()"
   ]
  },
  {
   "cell_type": "code",
   "execution_count": 35,
   "metadata": {},
   "outputs": [],
   "source": [
    "lista_criticas=[]\n",
    "for critica in df.review_body:\n",
    "    # Vamos a reemplzar los caracteres que no sean letras por espacios\n",
    "    critica=re.sub(\"[^a-zA-Z]\",\" \",str(critica))\n",
    "    # Pasamos todo a minúsculas\n",
    "    critica=critica.lower()\n",
    "    # Tokenizamos para separar las palabras del titular\n",
    "    critica=nltk.word_tokenize(critica)\n",
    "    # Eliminamos las palabras de menos de 3 letras\n",
    "    critica = [palabra for palabra in critica if len(palabra)>3]\n",
    "    # Sacamos las Stopwords\n",
    "    critica = [palabra for palabra in critica if not palabra in stopwords]\n",
    "    \n",
    "    ## Hasta acá Normalizamos, ahora a stemmizar\n",
    "    \n",
    "    # Aplicamos la funcion para buscar la raiz de las palabras\n",
    "    critica=[stemmer.stem(palabra) for palabra in critica]\n",
    "    # Por ultimo volvemos a unir el titular\n",
    "    critica=\" \".join(critica)\n",
    "    \n",
    "    # Vamos armando una lista con todos los titulares\n",
    "    lista_criticas.append(critica)\n",
    "    #dataset[\"titular_normalizado\"] = titular_list\n"
   ]
  },
  {
   "cell_type": "markdown",
   "metadata": {},
   "source": [
    "También vamos a retirar los acentos y normalizamos utilizando la librería 'unicodedata'"
   ]
  },
  {
   "cell_type": "code",
   "execution_count": 36,
   "metadata": {},
   "outputs": [],
   "source": [
    "# Agregamos la lista al dataframe\n",
    "df['criticas_stem'] =  lista_criticas"
   ]
  },
  {
   "cell_type": "code",
   "execution_count": 37,
   "metadata": {},
   "outputs": [],
   "source": [
    "# Removemos los acentos y normalizamos con una función de la librería 'unicodedata'\n",
    "remove_accent = lambda text: normalize(\"NFKD\", text).encode(\"ascii\", \"ignore\").decode(\"utf-8\", \"ignore\")\n",
    "# Creamos una nueva columna con las críticas normalizadas y procesadas\n",
    "df['criticas_stem'] = df['criticas_stem'].apply(remove_accent)\n"
   ]
  },
  {
   "cell_type": "code",
   "execution_count": 38,
   "metadata": {},
   "outputs": [
    {
     "data": {
      "text/html": [
       "<div>\n",
       "<style scoped>\n",
       "    .dataframe tbody tr th:only-of-type {\n",
       "        vertical-align: middle;\n",
       "    }\n",
       "\n",
       "    .dataframe tbody tr th {\n",
       "        vertical-align: top;\n",
       "    }\n",
       "\n",
       "    .dataframe thead th {\n",
       "        text-align: right;\n",
       "    }\n",
       "</style>\n",
       "<table border=\"1\" class=\"dataframe\">\n",
       "  <thead>\n",
       "    <tr style=\"text-align: right;\">\n",
       "      <th></th>\n",
       "      <th>review_id</th>\n",
       "      <th>product_id</th>\n",
       "      <th>reviewer_id</th>\n",
       "      <th>stars</th>\n",
       "      <th>review_body</th>\n",
       "      <th>review_title</th>\n",
       "      <th>language</th>\n",
       "      <th>product_category</th>\n",
       "      <th>text_length</th>\n",
       "      <th>nb_words</th>\n",
       "      <th>criticas_stem</th>\n",
       "    </tr>\n",
       "  </thead>\n",
       "  <tbody>\n",
       "    <tr>\n",
       "      <th>6468</th>\n",
       "      <td>es_0476668</td>\n",
       "      <td>product_es_0773990</td>\n",
       "      <td>reviewer_es_0443238</td>\n",
       "      <td>1</td>\n",
       "      <td>A la espera de que llegue, tres días desde la ...</td>\n",
       "      <td>No me ha llegado</td>\n",
       "      <td>es</td>\n",
       "      <td>home</td>\n",
       "      <td>101</td>\n",
       "      <td>21</td>\n",
       "      <td>espera llegu tre fecha entrega primera pasa am...</td>\n",
       "    </tr>\n",
       "    <tr>\n",
       "      <th>14064</th>\n",
       "      <td>es_0372690</td>\n",
       "      <td>product_es_0019996</td>\n",
       "      <td>reviewer_es_0925676</td>\n",
       "      <td>1</td>\n",
       "      <td>El producto está muy bien, fácil de montar, pr...</td>\n",
       "      <td>El problema está en los plazos de entrega.</td>\n",
       "      <td>es</td>\n",
       "      <td>home</td>\n",
       "      <td>325</td>\n",
       "      <td>61</td>\n",
       "      <td>producto bien montar precio razon compr nico p...</td>\n",
       "    </tr>\n",
       "    <tr>\n",
       "      <th>20862</th>\n",
       "      <td>es_0127411</td>\n",
       "      <td>product_es_0301699</td>\n",
       "      <td>reviewer_es_0468082</td>\n",
       "      <td>1</td>\n",
       "      <td>Después de 2 meses, ni he recibido las diadema...</td>\n",
       "      <td>MUY MALA EXPERIENCIA</td>\n",
       "      <td>es</td>\n",
       "      <td>apparel</td>\n",
       "      <td>77</td>\n",
       "      <td>15</td>\n",
       "      <td>despu mese recibido diadema devuelto dinero</td>\n",
       "    </tr>\n",
       "    <tr>\n",
       "      <th>35994</th>\n",
       "      <td>es_0500471</td>\n",
       "      <td>product_es_0778859</td>\n",
       "      <td>reviewer_es_0824370</td>\n",
       "      <td>1</td>\n",
       "      <td>Te mandan los artículos sin haberlos pagado.</td>\n",
       "      <td>¡¡¡ Que guapo !!!</td>\n",
       "      <td>es</td>\n",
       "      <td>pc</td>\n",
       "      <td>44</td>\n",
       "      <td>7</td>\n",
       "      <td>mandan culo haberlo pagado</td>\n",
       "    </tr>\n",
       "    <tr>\n",
       "      <th>27746</th>\n",
       "      <td>es_0015129</td>\n",
       "      <td>product_es_0261843</td>\n",
       "      <td>reviewer_es_0782745</td>\n",
       "      <td>1</td>\n",
       "      <td>El producto aún no ha llegado, tenía que llega...</td>\n",
       "      <td>Estafa</td>\n",
       "      <td>es</td>\n",
       "      <td>toy</td>\n",
       "      <td>111</td>\n",
       "      <td>22</td>\n",
       "      <td>producto llegado llegar mayo sigo esperando es...</td>\n",
       "    </tr>\n",
       "  </tbody>\n",
       "</table>\n",
       "</div>"
      ],
      "text/plain": [
       "        review_id          product_id          reviewer_id  stars  \\\n",
       "6468   es_0476668  product_es_0773990  reviewer_es_0443238      1   \n",
       "14064  es_0372690  product_es_0019996  reviewer_es_0925676      1   \n",
       "20862  es_0127411  product_es_0301699  reviewer_es_0468082      1   \n",
       "35994  es_0500471  product_es_0778859  reviewer_es_0824370      1   \n",
       "27746  es_0015129  product_es_0261843  reviewer_es_0782745      1   \n",
       "\n",
       "                                             review_body  \\\n",
       "6468   A la espera de que llegue, tres días desde la ...   \n",
       "14064  El producto está muy bien, fácil de montar, pr...   \n",
       "20862  Después de 2 meses, ni he recibido las diadema...   \n",
       "35994       Te mandan los artículos sin haberlos pagado.   \n",
       "27746  El producto aún no ha llegado, tenía que llega...   \n",
       "\n",
       "                                     review_title language product_category  \\\n",
       "6468                             No me ha llegado       es             home   \n",
       "14064  El problema está en los plazos de entrega.       es             home   \n",
       "20862                        MUY MALA EXPERIENCIA       es          apparel   \n",
       "35994                           ¡¡¡ Que guapo !!!       es               pc   \n",
       "27746                                      Estafa       es              toy   \n",
       "\n",
       "       text_length  nb_words  \\\n",
       "6468           101        21   \n",
       "14064          325        61   \n",
       "20862           77        15   \n",
       "35994           44         7   \n",
       "27746          111        22   \n",
       "\n",
       "                                           criticas_stem  \n",
       "6468   espera llegu tre fecha entrega primera pasa am...  \n",
       "14064  producto bien montar precio razon compr nico p...  \n",
       "20862        despu mese recibido diadema devuelto dinero  \n",
       "35994                         mandan culo haberlo pagado  \n",
       "27746  producto llegado llegar mayo sigo esperando es...  "
      ]
     },
     "execution_count": 38,
     "metadata": {},
     "output_type": "execute_result"
    }
   ],
   "source": [
    "df.head()"
   ]
  },
  {
   "cell_type": "markdown",
   "metadata": {},
   "source": [
    "Vamos a retirar las columnas que consideramos redundantes"
   ]
  },
  {
   "cell_type": "code",
   "execution_count": 39,
   "metadata": {},
   "outputs": [
    {
     "data": {
      "text/html": [
       "<div>\n",
       "<style scoped>\n",
       "    .dataframe tbody tr th:only-of-type {\n",
       "        vertical-align: middle;\n",
       "    }\n",
       "\n",
       "    .dataframe tbody tr th {\n",
       "        vertical-align: top;\n",
       "    }\n",
       "\n",
       "    .dataframe thead th {\n",
       "        text-align: right;\n",
       "    }\n",
       "</style>\n",
       "<table border=\"1\" class=\"dataframe\">\n",
       "  <thead>\n",
       "    <tr style=\"text-align: right;\">\n",
       "      <th></th>\n",
       "      <th>0</th>\n",
       "      <th>1</th>\n",
       "    </tr>\n",
       "  </thead>\n",
       "  <tbody>\n",
       "    <tr>\n",
       "      <th>0</th>\n",
       "      <td>es</td>\n",
       "      <td>review_id          product_id        ...</td>\n",
       "    </tr>\n",
       "  </tbody>\n",
       "</table>\n",
       "</div>"
      ],
      "text/plain": [
       "    0                                                  1\n",
       "0  es           review_id          product_id        ..."
      ]
     },
     "execution_count": 39,
     "metadata": {},
     "output_type": "execute_result"
    }
   ],
   "source": [
    "# Lenguage, todas son en español\n",
    "df_lan = df.groupby('language')\n",
    "pd.DataFrame(df_lan)"
   ]
  },
  {
   "cell_type": "markdown",
   "metadata": {},
   "source": [
    "Retiramos las columnas que no vamos a utilizar"
   ]
  },
  {
   "cell_type": "code",
   "execution_count": 40,
   "metadata": {},
   "outputs": [],
   "source": [
    "# Utilizamos .drop de pandas para retirar las columnas que consideramos irrelevantes o redundantes\n",
    "df = df.drop(['review_id', 'review_title', 'language', 'review_body'], axis = 1)"
   ]
  },
  {
   "cell_type": "markdown",
   "metadata": {},
   "source": [
    "Retiramos el texto de las features product_id y reviewer_id\n"
   ]
  },
  {
   "cell_type": "code",
   "execution_count": 41,
   "metadata": {},
   "outputs": [],
   "source": [
    "# Utilizamos funciones lamda para retirar el texto\n",
    "df['product_id'] = df['product_id'].map(lambda x: x.lstrip('product_es_'))\n",
    "df['reviewer_id'] = df['reviewer_id'].map(lambda x: x.lstrip('reviewer_es_'))"
   ]
  },
  {
   "cell_type": "code",
   "execution_count": 42,
   "metadata": {},
   "outputs": [
    {
     "data": {
      "text/html": [
       "<div>\n",
       "<style scoped>\n",
       "    .dataframe tbody tr th:only-of-type {\n",
       "        vertical-align: middle;\n",
       "    }\n",
       "\n",
       "    .dataframe tbody tr th {\n",
       "        vertical-align: top;\n",
       "    }\n",
       "\n",
       "    .dataframe thead th {\n",
       "        text-align: right;\n",
       "    }\n",
       "</style>\n",
       "<table border=\"1\" class=\"dataframe\">\n",
       "  <thead>\n",
       "    <tr style=\"text-align: right;\">\n",
       "      <th></th>\n",
       "      <th>product_id</th>\n",
       "      <th>reviewer_id</th>\n",
       "      <th>stars</th>\n",
       "      <th>product_category</th>\n",
       "      <th>text_length</th>\n",
       "      <th>nb_words</th>\n",
       "      <th>criticas_stem</th>\n",
       "    </tr>\n",
       "  </thead>\n",
       "  <tbody>\n",
       "    <tr>\n",
       "      <th>6468</th>\n",
       "      <td>0773990</td>\n",
       "      <td>0443238</td>\n",
       "      <td>1</td>\n",
       "      <td>home</td>\n",
       "      <td>101</td>\n",
       "      <td>21</td>\n",
       "      <td>espera llegu tre fecha entrega primera pasa am...</td>\n",
       "    </tr>\n",
       "    <tr>\n",
       "      <th>14064</th>\n",
       "      <td>0019996</td>\n",
       "      <td>0925676</td>\n",
       "      <td>1</td>\n",
       "      <td>home</td>\n",
       "      <td>325</td>\n",
       "      <td>61</td>\n",
       "      <td>producto bien montar precio razon compr nico p...</td>\n",
       "    </tr>\n",
       "    <tr>\n",
       "      <th>20862</th>\n",
       "      <td>0301699</td>\n",
       "      <td>0468082</td>\n",
       "      <td>1</td>\n",
       "      <td>apparel</td>\n",
       "      <td>77</td>\n",
       "      <td>15</td>\n",
       "      <td>despu mese recibido diadema devuelto dinero</td>\n",
       "    </tr>\n",
       "    <tr>\n",
       "      <th>35994</th>\n",
       "      <td>0778859</td>\n",
       "      <td>0824370</td>\n",
       "      <td>1</td>\n",
       "      <td>pc</td>\n",
       "      <td>44</td>\n",
       "      <td>7</td>\n",
       "      <td>mandan culo haberlo pagado</td>\n",
       "    </tr>\n",
       "    <tr>\n",
       "      <th>27746</th>\n",
       "      <td>0261843</td>\n",
       "      <td>0782745</td>\n",
       "      <td>1</td>\n",
       "      <td>toy</td>\n",
       "      <td>111</td>\n",
       "      <td>22</td>\n",
       "      <td>producto llegado llegar mayo sigo esperando es...</td>\n",
       "    </tr>\n",
       "  </tbody>\n",
       "</table>\n",
       "</div>"
      ],
      "text/plain": [
       "      product_id reviewer_id  stars product_category  text_length  nb_words  \\\n",
       "6468     0773990     0443238      1             home          101        21   \n",
       "14064    0019996     0925676      1             home          325        61   \n",
       "20862    0301699     0468082      1          apparel           77        15   \n",
       "35994    0778859     0824370      1               pc           44         7   \n",
       "27746    0261843     0782745      1              toy          111        22   \n",
       "\n",
       "                                           criticas_stem  \n",
       "6468   espera llegu tre fecha entrega primera pasa am...  \n",
       "14064  producto bien montar precio razon compr nico p...  \n",
       "20862        despu mese recibido diadema devuelto dinero  \n",
       "35994                         mandan culo haberlo pagado  \n",
       "27746  producto llegado llegar mayo sigo esperando es...  "
      ]
     },
     "execution_count": 42,
     "metadata": {},
     "output_type": "execute_result"
    }
   ],
   "source": [
    "df.head()"
   ]
  },
  {
   "cell_type": "markdown",
   "metadata": {},
   "source": [
    "Vamos a analizar el dataframe en relación al tipo de producto para entender un poco más cuál es su relación con las calificaciones. \n",
    "\n",
    "¿Habrá algún tipo de producto que tenga una tendencia a recibir malas o buenas críticas?"
   ]
  },
  {
   "cell_type": "code",
   "execution_count": 43,
   "metadata": {},
   "outputs": [],
   "source": [
    "# Compiamos el dataframe para filtrar por categoría de producto\n",
    "df2 = df.copy()"
   ]
  },
  {
   "cell_type": "code",
   "execution_count": 44,
   "metadata": {},
   "outputs": [
    {
     "data": {
      "text/html": [
       "<div>\n",
       "<style scoped>\n",
       "    .dataframe tbody tr th:only-of-type {\n",
       "        vertical-align: middle;\n",
       "    }\n",
       "\n",
       "    .dataframe tbody tr th {\n",
       "        vertical-align: top;\n",
       "    }\n",
       "\n",
       "    .dataframe thead th {\n",
       "        text-align: right;\n",
       "    }\n",
       "</style>\n",
       "<table border=\"1\" class=\"dataframe\">\n",
       "  <thead>\n",
       "    <tr style=\"text-align: right;\">\n",
       "      <th></th>\n",
       "      <th>stars</th>\n",
       "    </tr>\n",
       "  </thead>\n",
       "  <tbody>\n",
       "    <tr>\n",
       "      <th>count</th>\n",
       "      <td>50000.0</td>\n",
       "    </tr>\n",
       "    <tr>\n",
       "      <th>mean</th>\n",
       "      <td>3.0</td>\n",
       "    </tr>\n",
       "    <tr>\n",
       "      <th>std</th>\n",
       "      <td>1.0</td>\n",
       "    </tr>\n",
       "    <tr>\n",
       "      <th>min</th>\n",
       "      <td>1.0</td>\n",
       "    </tr>\n",
       "    <tr>\n",
       "      <th>25%</th>\n",
       "      <td>2.0</td>\n",
       "    </tr>\n",
       "    <tr>\n",
       "      <th>50%</th>\n",
       "      <td>3.0</td>\n",
       "    </tr>\n",
       "    <tr>\n",
       "      <th>75%</th>\n",
       "      <td>4.0</td>\n",
       "    </tr>\n",
       "    <tr>\n",
       "      <th>max</th>\n",
       "      <td>5.0</td>\n",
       "    </tr>\n",
       "  </tbody>\n",
       "</table>\n",
       "</div>"
      ],
      "text/plain": [
       "         stars\n",
       "count  50000.0\n",
       "mean       3.0\n",
       "std        1.0\n",
       "min        1.0\n",
       "25%        2.0\n",
       "50%        3.0\n",
       "75%        4.0\n",
       "max        5.0"
      ]
     },
     "execution_count": 44,
     "metadata": {},
     "output_type": "execute_result"
    }
   ],
   "source": [
    "# Creamos un dataframe nuevo con las features 'stars' y 'product_category' y realizamos unas estadísticas básicas\n",
    "filt = ['stars', 'product_category']\n",
    "art = df2[filt]\n",
    "art.describe().round()"
   ]
  },
  {
   "cell_type": "markdown",
   "metadata": {},
   "source": [
    "Según las estadísticas, la distribución del número de estrellas es homogénea."
   ]
  },
  {
   "cell_type": "code",
   "execution_count": 45,
   "metadata": {},
   "outputs": [],
   "source": [
    "# Agrupamos por tipo de producto\n",
    "art = art.groupby('product_category').sum().sort_values('stars', ascending=False)"
   ]
  },
  {
   "cell_type": "code",
   "execution_count": 46,
   "metadata": {},
   "outputs": [
    {
     "data": {
      "text/html": [
       "<div>\n",
       "<style scoped>\n",
       "    .dataframe tbody tr th:only-of-type {\n",
       "        vertical-align: middle;\n",
       "    }\n",
       "\n",
       "    .dataframe tbody tr th {\n",
       "        vertical-align: top;\n",
       "    }\n",
       "\n",
       "    .dataframe thead th {\n",
       "        text-align: right;\n",
       "    }\n",
       "</style>\n",
       "<table border=\"1\" class=\"dataframe\">\n",
       "  <thead>\n",
       "    <tr style=\"text-align: right;\">\n",
       "      <th></th>\n",
       "      <th>stars</th>\n",
       "    </tr>\n",
       "    <tr>\n",
       "      <th>product_category</th>\n",
       "      <th></th>\n",
       "    </tr>\n",
       "  </thead>\n",
       "  <tbody>\n",
       "    <tr>\n",
       "      <th>home</th>\n",
       "      <td>20177</td>\n",
       "    </tr>\n",
       "    <tr>\n",
       "      <th>wireless</th>\n",
       "      <td>18311</td>\n",
       "    </tr>\n",
       "    <tr>\n",
       "      <th>toy</th>\n",
       "      <td>10307</td>\n",
       "    </tr>\n",
       "    <tr>\n",
       "      <th>sports</th>\n",
       "      <td>9982</td>\n",
       "    </tr>\n",
       "    <tr>\n",
       "      <th>pc</th>\n",
       "      <td>8576</td>\n",
       "    </tr>\n",
       "  </tbody>\n",
       "</table>\n",
       "</div>"
      ],
      "text/plain": [
       "                  stars\n",
       "product_category       \n",
       "home              20177\n",
       "wireless          18311\n",
       "toy               10307\n",
       "sports             9982\n",
       "pc                 8576"
      ]
     },
     "execution_count": 46,
     "metadata": {},
     "output_type": "execute_result"
    }
   ],
   "source": [
    "art.head()"
   ]
  },
  {
   "cell_type": "markdown",
   "metadata": {},
   "source": [
    "Vemos que los tipos de productos con más instancias son 'home', 'wireless' y 'toy'\n"
   ]
  },
  {
   "cell_type": "markdown",
   "metadata": {},
   "source": [
    "Vamos a realizar un dataframe que nos permita observar la cantidad de instancias por producto y el promedio de la calificación en estrellas"
   ]
  },
  {
   "cell_type": "code",
   "execution_count": 47,
   "metadata": {},
   "outputs": [
    {
     "data": {
      "text/plain": [
       "product_category\n",
       "apparel         1444\n",
       "automotive      1784\n",
       "baby_product    1148\n",
       "beauty          1825\n",
       "book            1360\n",
       "dtype: int64"
      ]
     },
     "execution_count": 47,
     "metadata": {},
     "output_type": "execute_result"
    }
   ],
   "source": [
    "# Agrupamos pot tipo de producto\n",
    "ins = df2.groupby('product_category').size()\n",
    "ins.head()"
   ]
  },
  {
   "cell_type": "code",
   "execution_count": 48,
   "metadata": {},
   "outputs": [],
   "source": [
    "# Agregamos la columnas al df\n",
    "art['instancias_producto'] = ins"
   ]
  },
  {
   "cell_type": "code",
   "execution_count": 49,
   "metadata": {},
   "outputs": [
    {
     "data": {
      "text/html": [
       "<div>\n",
       "<style scoped>\n",
       "    .dataframe tbody tr th:only-of-type {\n",
       "        vertical-align: middle;\n",
       "    }\n",
       "\n",
       "    .dataframe tbody tr th {\n",
       "        vertical-align: top;\n",
       "    }\n",
       "\n",
       "    .dataframe thead th {\n",
       "        text-align: right;\n",
       "    }\n",
       "</style>\n",
       "<table border=\"1\" class=\"dataframe\">\n",
       "  <thead>\n",
       "    <tr style=\"text-align: right;\">\n",
       "      <th></th>\n",
       "      <th>product_category</th>\n",
       "      <th>stars</th>\n",
       "      <th>instancias_producto</th>\n",
       "      <th>promedio_producto</th>\n",
       "    </tr>\n",
       "  </thead>\n",
       "  <tbody>\n",
       "    <tr>\n",
       "      <th>0</th>\n",
       "      <td>book</td>\n",
       "      <td>4655</td>\n",
       "      <td>1360</td>\n",
       "      <td>3.422794</td>\n",
       "    </tr>\n",
       "    <tr>\n",
       "      <th>1</th>\n",
       "      <td>digital_ebook_purchase</td>\n",
       "      <td>1547</td>\n",
       "      <td>457</td>\n",
       "      <td>3.385120</td>\n",
       "    </tr>\n",
       "    <tr>\n",
       "      <th>2</th>\n",
       "      <td>luggage</td>\n",
       "      <td>2739</td>\n",
       "      <td>827</td>\n",
       "      <td>3.311971</td>\n",
       "    </tr>\n",
       "    <tr>\n",
       "      <th>3</th>\n",
       "      <td>grocery</td>\n",
       "      <td>909</td>\n",
       "      <td>279</td>\n",
       "      <td>3.258065</td>\n",
       "    </tr>\n",
       "    <tr>\n",
       "      <th>4</th>\n",
       "      <td>musical_instruments</td>\n",
       "      <td>1286</td>\n",
       "      <td>399</td>\n",
       "      <td>3.223058</td>\n",
       "    </tr>\n",
       "  </tbody>\n",
       "</table>\n",
       "</div>"
      ],
      "text/plain": [
       "         product_category  stars  instancias_producto  promedio_producto\n",
       "0                    book   4655                 1360           3.422794\n",
       "1  digital_ebook_purchase   1547                  457           3.385120\n",
       "2                 luggage   2739                  827           3.311971\n",
       "3                 grocery    909                  279           3.258065\n",
       "4     musical_instruments   1286                  399           3.223058"
      ]
     },
     "execution_count": 49,
     "metadata": {},
     "output_type": "execute_result"
    }
   ],
   "source": [
    "# Obtenemos el promedio de estrellas por producto y agregamos la columna.\n",
    "art['promedio_producto'] = art.stars/ins\n",
    "art = art.sort_values('promedio_producto', ascending =  False)\n",
    "art = art.reset_index()\n",
    "art.head()"
   ]
  },
  {
   "cell_type": "markdown",
   "metadata": {},
   "source": [
    "Realizamos unas estadísticas básicas"
   ]
  },
  {
   "cell_type": "code",
   "execution_count": 50,
   "metadata": {},
   "outputs": [
    {
     "data": {
      "text/plain": [
       "count    30.000000\n",
       "mean      3.055031\n",
       "std       0.153041\n",
       "min       2.708654\n",
       "25%       2.980697\n",
       "50%       3.051553\n",
       "75%       3.096157\n",
       "max       3.422794\n",
       "Name: promedio_producto, dtype: float64"
      ]
     },
     "execution_count": 50,
     "metadata": {},
     "output_type": "execute_result"
    }
   ],
   "source": [
    "art.promedio_producto.describe()"
   ]
  },
  {
   "cell_type": "markdown",
   "metadata": {},
   "source": [
    "Nuevamente obtenemos una distribución muy homogénea de la cantidad de estrellas por producto. Los valores en promedio son de 3 estrellas, sin grandes diferencias entre las calificaciones de los productos. Vamos a graficar para obtener una idea más clara."
   ]
  },
  {
   "cell_type": "code",
   "execution_count": 51,
   "metadata": {},
   "outputs": [
    {
     "data": {
      "text/plain": [
       "(array([ 0,  1,  2,  3,  4,  5,  6,  7,  8,  9, 10, 11, 12, 13, 14, 15, 16,\n",
       "        17, 18, 19, 20, 21, 22, 23, 24, 25, 26, 27, 28, 29]),\n",
       " <a list of 30 Text major ticklabel objects>)"
      ]
     },
     "execution_count": 51,
     "metadata": {},
     "output_type": "execute_result"
    },
    {
     "data": {
      "image/png": "[encoded data removed]",
      "text/plain": [
       "<Figure size 864x432 with 1 Axes>"
      ]
     },
     "metadata": {},
     "output_type": "display_data"
    }
   ],
   "source": [
    "# Realizamos un gráfico de barras con seaborn\n",
    "plt.figure(figsize=(12,6))\n",
    "sns.barplot(x = 'product_category', y = 'promedio_producto', data= art, palette = 'husl')\n",
    "plt.title('Promedio de estrellas por tipo de producto')\n",
    "plt.xticks(rotation = 90)"
   ]
  },
  {
   "cell_type": "markdown",
   "metadata": {},
   "source": [
    "EL promedio de calificaciones por productos es muy similar en todos, en un rango de 2.7 a 3.4\n",
    "\n",
    "Vamos a realizar un boxplot para ver los valores atípicos."
   ]
  },
  {
   "cell_type": "code",
   "execution_count": 52,
   "metadata": {},
   "outputs": [
    {
     "data": {
      "text/plain": [
       "<matplotlib.axes._subplots.AxesSubplot at 0x19b43a995b0>"
      ]
     },
     "execution_count": 52,
     "metadata": {},
     "output_type": "execute_result"
    },
    {
     "data": {
      "image/png": "[encoded data removed]",
      "text/plain": [
       "<Figure size 432x288 with 1 Axes>"
      ]
     },
     "metadata": {},
     "output_type": "display_data"
    }
   ],
   "source": [
    "# Realizamos un boxplot con seaborn\n",
    "sns.boxplot(x ='promedio_producto',  data= art, color = 'r', palette = 'husl')"
   ]
  },
  {
   "cell_type": "markdown",
   "metadata": {},
   "source": [
    "Hay pocos valores atípicos y la distancia entre ellos y la media no es amplio."
   ]
  },
  {
   "cell_type": "markdown",
   "metadata": {},
   "source": [
    "#### Respuesta a la pregunta: ¿Habrá alguna tendencia en los tipos de productos a recibir buenas o malas críticas?\n",
    "\n",
    "Según lo analizado, podemos concluir que los tipos de prodcutos suelen recibir una calificació muy similiar entre ellos, por lo tanto no existe alguna tendencia hacia ser calificados de manera negativa o positiva. \n",
    "\n",
    "En relación a la homogeneidad en las calificaciones por tipos de productos, podemos considerar que posiblemente el tipo de producto no sea una variable que influya en el modelo al momento de realizar una predicción.\n",
    "\n"
   ]
  },
  {
   "cell_type": "markdown",
   "metadata": {},
   "source": [
    "## Frecuencia de palabras en las críticas\n",
    "Vamos a tokenizar las palabras y comparar la frecuencia de las mismas mediante dos formas diferentes: FreqDist de la librería NLTK y TFIDF de Sklearn\n",
    "\n",
    "Finalmente, intentaremos obtener información para responder a la siguiente pregunta: ¿Hay palabras que se asocien a críticas positivas o negativas?"
   ]
  },
  {
   "cell_type": "code",
   "execution_count": 53,
   "metadata": {},
   "outputs": [],
   "source": [
    "# Instanciams las criticas\n",
    "criticas = df.criticas_stem"
   ]
  },
  {
   "cell_type": "code",
   "execution_count": 54,
   "metadata": {},
   "outputs": [
    {
     "name": "stdout",
     "output_type": "stream",
     "text": [
      "Hay 4246606 palabras en todas las críticas.\n"
     ]
    }
   ],
   "source": [
    "# Número de palabras en todas las críticas\n",
    "text = \" \".join(review for review in criticas)\n",
    "print (\"Hay {} palabras en todas las críticas.\".format(len(text)))"
   ]
  },
  {
   "cell_type": "code",
   "execution_count": 55,
   "metadata": {},
   "outputs": [],
   "source": [
    "# Tokenizamos\n",
    "todas_las_criticas = []\n",
    "for i in range(df.shape[0]):\n",
    "    critic = df.iloc[i].criticas_stem\n",
    "    critic = nltk.tokenize.RegexpTokenizer(\"[\\w]+\").tokenize(critic)\n",
    "\n",
    "    todas_las_criticas.append(critic)"
   ]
  },
  {
   "cell_type": "code",
   "execution_count": 56,
   "metadata": {},
   "outputs": [
    {
     "data": {
      "text/plain": [
       "['espera',\n",
       " 'llegu',\n",
       " 'tre',\n",
       " 'fecha',\n",
       " 'entrega',\n",
       " 'primera',\n",
       " 'pasa',\n",
       " 'amazon',\n",
       " 'producto',\n",
       " 'bien']"
      ]
     },
     "execution_count": 56,
     "metadata": {},
     "output_type": "execute_result"
    }
   ],
   "source": [
    "# SLice con las primeras \n",
    "todas_las_criticas = list(itertools.chain(*todas_las_criticas))\n",
    "todas_las_criticas[0:10]"
   ]
  },
  {
   "cell_type": "code",
   "execution_count": 57,
   "metadata": {},
   "outputs": [
    {
     "data": {
      "text/plain": [
       "FreqDist({'bien': 13141, 'calidad': 7862, 'producto': 6435, 'precio': 5730, 'buena': 5225, 'pequ': 3424, 'bastant': 3359, 'buen': 2863, 'funciona': 2789, 'hace': 2712, ...})"
      ]
     },
     "execution_count": 57,
     "metadata": {},
     "output_type": "execute_result"
    }
   ],
   "source": [
    "# Obtenemos la frecuencias de cada palabra\n",
    "freq = nltk.FreqDist(todas_las_criticas)\n",
    "freq"
   ]
  },
  {
   "cell_type": "code",
   "execution_count": 58,
   "metadata": {},
   "outputs": [
    {
     "data": {
      "text/html": [
       "<div>\n",
       "<style scoped>\n",
       "    .dataframe tbody tr th:only-of-type {\n",
       "        vertical-align: middle;\n",
       "    }\n",
       "\n",
       "    .dataframe tbody tr th {\n",
       "        vertical-align: top;\n",
       "    }\n",
       "\n",
       "    .dataframe thead th {\n",
       "        text-align: right;\n",
       "    }\n",
       "</style>\n",
       "<table border=\"1\" class=\"dataframe\">\n",
       "  <thead>\n",
       "    <tr style=\"text-align: right;\">\n",
       "      <th></th>\n",
       "      <th>Palabra</th>\n",
       "      <th>Frecuencia</th>\n",
       "    </tr>\n",
       "  </thead>\n",
       "  <tbody>\n",
       "    <tr>\n",
       "      <th>9</th>\n",
       "      <td>bien</td>\n",
       "      <td>13141</td>\n",
       "    </tr>\n",
       "    <tr>\n",
       "      <th>171</th>\n",
       "      <td>calidad</td>\n",
       "      <td>7862</td>\n",
       "    </tr>\n",
       "    <tr>\n",
       "      <th>8</th>\n",
       "      <td>producto</td>\n",
       "      <td>6435</td>\n",
       "    </tr>\n",
       "    <tr>\n",
       "      <th>11</th>\n",
       "      <td>precio</td>\n",
       "      <td>5730</td>\n",
       "    </tr>\n",
       "    <tr>\n",
       "      <th>789</th>\n",
       "      <td>buena</td>\n",
       "      <td>5225</td>\n",
       "    </tr>\n",
       "  </tbody>\n",
       "</table>\n",
       "</div>"
      ],
      "text/plain": [
       "      Palabra  Frecuencia\n",
       "9        bien       13141\n",
       "171   calidad        7862\n",
       "8    producto        6435\n",
       "11     precio        5730\n",
       "789     buena        5225"
      ]
     },
     "execution_count": 58,
     "metadata": {},
     "output_type": "execute_result"
    }
   ],
   "source": [
    "# Realizamos un dataframe con la frecuencia de cada palabra\n",
    "frecuencias = pd.DataFrame(list(freq.items()), columns = ['Palabra',\"Frecuencia\"])\n",
    "frecuencias = frecuencias.sort_values('Frecuencia', ascending = False)\n",
    "frecuencias.head()"
   ]
  },
  {
   "cell_type": "code",
   "execution_count": 59,
   "metadata": {},
   "outputs": [
    {
     "data": {
      "text/html": [
       "<div>\n",
       "<style scoped>\n",
       "    .dataframe tbody tr th:only-of-type {\n",
       "        vertical-align: middle;\n",
       "    }\n",
       "\n",
       "    .dataframe tbody tr th {\n",
       "        vertical-align: top;\n",
       "    }\n",
       "\n",
       "    .dataframe thead th {\n",
       "        text-align: right;\n",
       "    }\n",
       "</style>\n",
       "<table border=\"1\" class=\"dataframe\">\n",
       "  <thead>\n",
       "    <tr style=\"text-align: right;\">\n",
       "      <th></th>\n",
       "      <th>Palabra</th>\n",
       "      <th>Frecuencia</th>\n",
       "    </tr>\n",
       "  </thead>\n",
       "  <tbody>\n",
       "    <tr>\n",
       "      <th>9</th>\n",
       "      <td>bien</td>\n",
       "      <td>13141</td>\n",
       "    </tr>\n",
       "    <tr>\n",
       "      <th>171</th>\n",
       "      <td>calidad</td>\n",
       "      <td>7862</td>\n",
       "    </tr>\n",
       "    <tr>\n",
       "      <th>8</th>\n",
       "      <td>producto</td>\n",
       "      <td>6435</td>\n",
       "    </tr>\n",
       "    <tr>\n",
       "      <th>11</th>\n",
       "      <td>precio</td>\n",
       "      <td>5730</td>\n",
       "    </tr>\n",
       "    <tr>\n",
       "      <th>789</th>\n",
       "      <td>buena</td>\n",
       "      <td>5225</td>\n",
       "    </tr>\n",
       "    <tr>\n",
       "      <th>54</th>\n",
       "      <td>pequ</td>\n",
       "      <td>3424</td>\n",
       "    </tr>\n",
       "    <tr>\n",
       "      <th>1014</th>\n",
       "      <td>bastant</td>\n",
       "      <td>3359</td>\n",
       "    </tr>\n",
       "    <tr>\n",
       "      <th>173</th>\n",
       "      <td>buen</td>\n",
       "      <td>2863</td>\n",
       "    </tr>\n",
       "    <tr>\n",
       "      <th>69</th>\n",
       "      <td>funciona</td>\n",
       "      <td>2789</td>\n",
       "    </tr>\n",
       "    <tr>\n",
       "      <th>369</th>\n",
       "      <td>hace</td>\n",
       "      <td>2712</td>\n",
       "    </tr>\n",
       "    <tr>\n",
       "      <th>233</th>\n",
       "      <td>pued</td>\n",
       "      <td>2667</td>\n",
       "    </tr>\n",
       "    <tr>\n",
       "      <th>52</th>\n",
       "      <td>parec</td>\n",
       "      <td>2591</td>\n",
       "    </tr>\n",
       "    <tr>\n",
       "      <th>419</th>\n",
       "      <td>mejor</td>\n",
       "      <td>2505</td>\n",
       "    </tr>\n",
       "    <tr>\n",
       "      <th>1680</th>\n",
       "      <td>perfecto</td>\n",
       "      <td>2503</td>\n",
       "    </tr>\n",
       "    <tr>\n",
       "      <th>13</th>\n",
       "      <td>compr</td>\n",
       "      <td>2497</td>\n",
       "    </tr>\n",
       "    <tr>\n",
       "      <th>88</th>\n",
       "      <td>aunqu</td>\n",
       "      <td>2404</td>\n",
       "    </tr>\n",
       "    <tr>\n",
       "      <th>559</th>\n",
       "      <td>recomiendo</td>\n",
       "      <td>2357</td>\n",
       "    </tr>\n",
       "    <tr>\n",
       "      <th>266</th>\n",
       "      <td>solo</td>\n",
       "      <td>2288</td>\n",
       "    </tr>\n",
       "    <tr>\n",
       "      <th>15</th>\n",
       "      <td>problema</td>\n",
       "      <td>2286</td>\n",
       "    </tr>\n",
       "    <tr>\n",
       "      <th>346</th>\n",
       "      <td>bueno</td>\n",
       "      <td>2201</td>\n",
       "    </tr>\n",
       "    <tr>\n",
       "      <th>213</th>\n",
       "      <td>queda</td>\n",
       "      <td>2170</td>\n",
       "    </tr>\n",
       "    <tr>\n",
       "      <th>108</th>\n",
       "      <td>tiempo</td>\n",
       "      <td>2139</td>\n",
       "    </tr>\n",
       "    <tr>\n",
       "      <th>735</th>\n",
       "      <td>compra</td>\n",
       "      <td>2087</td>\n",
       "    </tr>\n",
       "    <tr>\n",
       "      <th>283</th>\n",
       "      <td>foto</td>\n",
       "      <td>2039</td>\n",
       "    </tr>\n",
       "    <tr>\n",
       "      <th>50</th>\n",
       "      <td>color</td>\n",
       "      <td>2005</td>\n",
       "    </tr>\n",
       "    <tr>\n",
       "      <th>587</th>\n",
       "      <td>cumpl</td>\n",
       "      <td>1980</td>\n",
       "    </tr>\n",
       "    <tr>\n",
       "      <th>268</th>\n",
       "      <td>grand</td>\n",
       "      <td>1968</td>\n",
       "    </tr>\n",
       "    <tr>\n",
       "      <th>402</th>\n",
       "      <td>lleg</td>\n",
       "      <td>1788</td>\n",
       "    </tr>\n",
       "    <tr>\n",
       "      <th>132</th>\n",
       "      <td>meno</td>\n",
       "      <td>1777</td>\n",
       "    </tr>\n",
       "    <tr>\n",
       "      <th>166</th>\n",
       "      <td>pantalla</td>\n",
       "      <td>1756</td>\n",
       "    </tr>\n",
       "    <tr>\n",
       "      <th>62</th>\n",
       "      <td>comprar</td>\n",
       "      <td>1709</td>\n",
       "    </tr>\n",
       "    <tr>\n",
       "      <th>207</th>\n",
       "      <td>vien</td>\n",
       "      <td>1694</td>\n",
       "    </tr>\n",
       "    <tr>\n",
       "      <th>520</th>\n",
       "      <td>part</td>\n",
       "      <td>1691</td>\n",
       "    </tr>\n",
       "    <tr>\n",
       "      <th>417</th>\n",
       "      <td>esperaba</td>\n",
       "      <td>1665</td>\n",
       "    </tr>\n",
       "    <tr>\n",
       "      <th>39</th>\n",
       "      <td>llegado</td>\n",
       "      <td>1642</td>\n",
       "    </tr>\n",
       "    <tr>\n",
       "      <th>720</th>\n",
       "      <td>bonito</td>\n",
       "      <td>1597</td>\n",
       "    </tr>\n",
       "    <tr>\n",
       "      <th>2455</th>\n",
       "      <td>perfectament</td>\n",
       "      <td>1565</td>\n",
       "    </tr>\n",
       "    <tr>\n",
       "      <th>29</th>\n",
       "      <td>despu</td>\n",
       "      <td>1512</td>\n",
       "    </tr>\n",
       "    <tr>\n",
       "      <th>418</th>\n",
       "      <td>demasiado</td>\n",
       "      <td>1484</td>\n",
       "    </tr>\n",
       "    <tr>\n",
       "      <th>613</th>\n",
       "      <td>funda</td>\n",
       "      <td>1467</td>\n",
       "    </tr>\n",
       "    <tr>\n",
       "      <th>1147</th>\n",
       "      <td>tama</td>\n",
       "      <td>1454</td>\n",
       "    </tr>\n",
       "    <tr>\n",
       "      <th>411</th>\n",
       "      <td>gustado</td>\n",
       "      <td>1434</td>\n",
       "    </tr>\n",
       "    <tr>\n",
       "      <th>290</th>\n",
       "      <td>caja</td>\n",
       "      <td>1420</td>\n",
       "    </tr>\n",
       "    <tr>\n",
       "      <th>470</th>\n",
       "      <td>stico</td>\n",
       "      <td>1375</td>\n",
       "    </tr>\n",
       "    <tr>\n",
       "      <th>7</th>\n",
       "      <td>amazon</td>\n",
       "      <td>1370</td>\n",
       "    </tr>\n",
       "    <tr>\n",
       "      <th>30</th>\n",
       "      <td>mese</td>\n",
       "      <td>1347</td>\n",
       "    </tr>\n",
       "    <tr>\n",
       "      <th>208</th>\n",
       "      <td>mala</td>\n",
       "      <td>1345</td>\n",
       "    </tr>\n",
       "    <tr>\n",
       "      <th>404</th>\n",
       "      <td>modo</td>\n",
       "      <td>1338</td>\n",
       "    </tr>\n",
       "    <tr>\n",
       "      <th>779</th>\n",
       "      <td>adem</td>\n",
       "      <td>1322</td>\n",
       "    </tr>\n",
       "    <tr>\n",
       "      <th>86</th>\n",
       "      <td>verdad</td>\n",
       "      <td>1316</td>\n",
       "    </tr>\n",
       "  </tbody>\n",
       "</table>\n",
       "</div>"
      ],
      "text/plain": [
       "           Palabra  Frecuencia\n",
       "9             bien       13141\n",
       "171        calidad        7862\n",
       "8         producto        6435\n",
       "11          precio        5730\n",
       "789          buena        5225\n",
       "54            pequ        3424\n",
       "1014       bastant        3359\n",
       "173           buen        2863\n",
       "69        funciona        2789\n",
       "369           hace        2712\n",
       "233           pued        2667\n",
       "52           parec        2591\n",
       "419          mejor        2505\n",
       "1680      perfecto        2503\n",
       "13           compr        2497\n",
       "88           aunqu        2404\n",
       "559     recomiendo        2357\n",
       "266           solo        2288\n",
       "15        problema        2286\n",
       "346          bueno        2201\n",
       "213          queda        2170\n",
       "108         tiempo        2139\n",
       "735         compra        2087\n",
       "283           foto        2039\n",
       "50           color        2005\n",
       "587          cumpl        1980\n",
       "268          grand        1968\n",
       "402           lleg        1788\n",
       "132           meno        1777\n",
       "166       pantalla        1756\n",
       "62         comprar        1709\n",
       "207           vien        1694\n",
       "520           part        1691\n",
       "417       esperaba        1665\n",
       "39         llegado        1642\n",
       "720         bonito        1597\n",
       "2455  perfectament        1565\n",
       "29           despu        1512\n",
       "418      demasiado        1484\n",
       "613          funda        1467\n",
       "1147          tama        1454\n",
       "411        gustado        1434\n",
       "290           caja        1420\n",
       "470          stico        1375\n",
       "7           amazon        1370\n",
       "30            mese        1347\n",
       "208           mala        1345\n",
       "404           modo        1338\n",
       "779           adem        1322\n",
       "86          verdad        1316"
      ]
     },
     "execution_count": 59,
     "metadata": {},
     "output_type": "execute_result"
    }
   ],
   "source": [
    "mas_frec = frecuencias[0:50]\n",
    "mas_frec"
   ]
  },
  {
   "cell_type": "code",
   "execution_count": 60,
   "metadata": {},
   "outputs": [
    {
     "data": {
      "image/png": "[encoded data removed]",
      "text/plain": [
       "<Figure size 1080x576 with 1 Axes>"
      ]
     },
     "metadata": {},
     "output_type": "display_data"
    }
   ],
   "source": [
    "# Graficamos la frecuencia de las palabras\n",
    "plt.figure(figsize = (15,8))\n",
    "plot = sns.barplot(x  = frecuencias.iloc[:30].Palabra, y = frecuencias.iloc[:30].Frecuencia)\n",
    "for item in plot.get_xticklabels():\n",
    "    item.set_rotation(90)\n",
    "plt.show()"
   ]
  },
  {
   "cell_type": "markdown",
   "metadata": {},
   "source": [
    "En el gráfico se observa que las existen 5 palabras con una fracuencias notoriamente mayor que el resto. Al estar presentes en gran cantidad de críticas, pueden no ser útiles para el modelo al momento de predecir una calificación porque no aportan información relevante. En ese sentido, es útil aplicar la técnica de TF-IDF, en el cual se asigna un peso bajo o 0 a palabras que se encuentren con una frecuencia alta. "
   ]
  },
  {
   "cell_type": "code",
   "execution_count": 61,
   "metadata": {},
   "outputs": [],
   "source": [
    "# Separamos en diferentes dataframes según las calificaciones. \n",
    "stars_1 = pd.DataFrame(df[df.stars == 1])\n",
    "stars_2 = pd.DataFrame(df[df.stars == 2])\n",
    "stars_3 = pd.DataFrame(df[df.stars == 3])\n",
    "stars_4 = pd.DataFrame(df[df.stars == 4])\n",
    "stars_5 = pd.DataFrame(df[df.stars == 5])"
   ]
  },
  {
   "cell_type": "code",
   "execution_count": 62,
   "metadata": {},
   "outputs": [
    {
     "data": {
      "text/html": [
       "<div>\n",
       "<style scoped>\n",
       "    .dataframe tbody tr th:only-of-type {\n",
       "        vertical-align: middle;\n",
       "    }\n",
       "\n",
       "    .dataframe tbody tr th {\n",
       "        vertical-align: top;\n",
       "    }\n",
       "\n",
       "    .dataframe thead th {\n",
       "        text-align: right;\n",
       "    }\n",
       "</style>\n",
       "<table border=\"1\" class=\"dataframe\">\n",
       "  <thead>\n",
       "    <tr style=\"text-align: right;\">\n",
       "      <th></th>\n",
       "      <th>product_id</th>\n",
       "      <th>reviewer_id</th>\n",
       "      <th>stars</th>\n",
       "      <th>product_category</th>\n",
       "      <th>text_length</th>\n",
       "      <th>nb_words</th>\n",
       "      <th>criticas_stem</th>\n",
       "    </tr>\n",
       "  </thead>\n",
       "  <tbody>\n",
       "    <tr>\n",
       "      <th>6468</th>\n",
       "      <td>0773990</td>\n",
       "      <td>0443238</td>\n",
       "      <td>1</td>\n",
       "      <td>home</td>\n",
       "      <td>101</td>\n",
       "      <td>21</td>\n",
       "      <td>espera llegu tre fecha entrega primera pasa am...</td>\n",
       "    </tr>\n",
       "    <tr>\n",
       "      <th>14064</th>\n",
       "      <td>0019996</td>\n",
       "      <td>0925676</td>\n",
       "      <td>1</td>\n",
       "      <td>home</td>\n",
       "      <td>325</td>\n",
       "      <td>61</td>\n",
       "      <td>producto bien montar precio razon compr nico p...</td>\n",
       "    </tr>\n",
       "    <tr>\n",
       "      <th>20862</th>\n",
       "      <td>0301699</td>\n",
       "      <td>0468082</td>\n",
       "      <td>1</td>\n",
       "      <td>apparel</td>\n",
       "      <td>77</td>\n",
       "      <td>15</td>\n",
       "      <td>despu mese recibido diadema devuelto dinero</td>\n",
       "    </tr>\n",
       "    <tr>\n",
       "      <th>35994</th>\n",
       "      <td>0778859</td>\n",
       "      <td>0824370</td>\n",
       "      <td>1</td>\n",
       "      <td>pc</td>\n",
       "      <td>44</td>\n",
       "      <td>7</td>\n",
       "      <td>mandan culo haberlo pagado</td>\n",
       "    </tr>\n",
       "    <tr>\n",
       "      <th>27746</th>\n",
       "      <td>0261843</td>\n",
       "      <td>0782745</td>\n",
       "      <td>1</td>\n",
       "      <td>toy</td>\n",
       "      <td>111</td>\n",
       "      <td>22</td>\n",
       "      <td>producto llegado llegar mayo sigo esperando es...</td>\n",
       "    </tr>\n",
       "  </tbody>\n",
       "</table>\n",
       "</div>"
      ],
      "text/plain": [
       "      product_id reviewer_id  stars product_category  text_length  nb_words  \\\n",
       "6468     0773990     0443238      1             home          101        21   \n",
       "14064    0019996     0925676      1             home          325        61   \n",
       "20862    0301699     0468082      1          apparel           77        15   \n",
       "35994    0778859     0824370      1               pc           44         7   \n",
       "27746    0261843     0782745      1              toy          111        22   \n",
       "\n",
       "                                           criticas_stem  \n",
       "6468   espera llegu tre fecha entrega primera pasa am...  \n",
       "14064  producto bien montar precio razon compr nico p...  \n",
       "20862        despu mese recibido diadema devuelto dinero  \n",
       "35994                         mandan culo haberlo pagado  \n",
       "27746  producto llegado llegar mayo sigo esperando es...  "
      ]
     },
     "execution_count": 62,
     "metadata": {},
     "output_type": "execute_result"
    }
   ],
   "source": [
    "# Obtenenmos las primeras 5 instancias\n",
    "stars_1.head()"
   ]
  },
  {
   "cell_type": "code",
   "execution_count": 63,
   "metadata": {},
   "outputs": [
    {
     "name": "stdout",
     "output_type": "stream",
     "text": [
      "Hay 855461 palabras en críticas con 1 estrella.\n"
     ]
    }
   ],
   "source": [
    "#Imprimimos cuántas palabras hay por cada calificación\n",
    "text = \" \".join(review for review in stars_1.criticas_stem)\n",
    "print (\"Hay {} palabras en críticas con 1 estrella.\".format(len(text)))"
   ]
  },
  {
   "cell_type": "code",
   "execution_count": 64,
   "metadata": {},
   "outputs": [],
   "source": [
    "star1 = []\n",
    "for i in range(stars_1.shape[0]):\n",
    "    critic = stars_1.iloc[i].criticas_stem\n",
    "    critic = nltk.tokenize.RegexpTokenizer(\"[\\w]+\").tokenize(critic)\n",
    "\n",
    "    star1.append(critic)\n",
    "\n",
    "star1 = list(itertools.chain(*star1))\n"
   ]
  },
  {
   "cell_type": "code",
   "execution_count": 65,
   "metadata": {},
   "outputs": [
    {
     "data": {
      "text/html": [
       "<div>\n",
       "<style scoped>\n",
       "    .dataframe tbody tr th:only-of-type {\n",
       "        vertical-align: middle;\n",
       "    }\n",
       "\n",
       "    .dataframe tbody tr th {\n",
       "        vertical-align: top;\n",
       "    }\n",
       "\n",
       "    .dataframe thead th {\n",
       "        text-align: right;\n",
       "    }\n",
       "</style>\n",
       "<table border=\"1\" class=\"dataframe\">\n",
       "  <thead>\n",
       "    <tr style=\"text-align: right;\">\n",
       "      <th></th>\n",
       "      <th>Palabra</th>\n",
       "      <th>Frecuencia</th>\n",
       "    </tr>\n",
       "  </thead>\n",
       "  <tbody>\n",
       "    <tr>\n",
       "      <th>8</th>\n",
       "      <td>producto</td>\n",
       "      <td>1898</td>\n",
       "    </tr>\n",
       "    <tr>\n",
       "      <th>9</th>\n",
       "      <td>bien</td>\n",
       "      <td>1116</td>\n",
       "    </tr>\n",
       "    <tr>\n",
       "      <th>171</th>\n",
       "      <td>calidad</td>\n",
       "      <td>1083</td>\n",
       "    </tr>\n",
       "    <tr>\n",
       "      <th>39</th>\n",
       "      <td>llegado</td>\n",
       "      <td>882</td>\n",
       "    </tr>\n",
       "    <tr>\n",
       "      <th>559</th>\n",
       "      <td>recomiendo</td>\n",
       "      <td>732</td>\n",
       "    </tr>\n",
       "  </tbody>\n",
       "</table>\n",
       "</div>"
      ],
      "text/plain": [
       "        Palabra  Frecuencia\n",
       "8      producto        1898\n",
       "9          bien        1116\n",
       "171     calidad        1083\n",
       "39      llegado         882\n",
       "559  recomiendo         732"
      ]
     },
     "execution_count": 65,
     "metadata": {},
     "output_type": "execute_result"
    }
   ],
   "source": [
    "freq = nltk.FreqDist(star1)\n",
    "frecuencias = pd.DataFrame(list(freq.items()), columns = ['Palabra',\"Frecuencia\"])\n",
    "frecuencias = frecuencias.sort_values('Frecuencia', ascending = False)\n",
    "frecuencias.head()"
   ]
  },
  {
   "cell_type": "code",
   "execution_count": 66,
   "metadata": {},
   "outputs": [
    {
     "data": {
      "image/png": "[encoded data removed]",
      "text/plain": [
       "<Figure size 1080x576 with 1 Axes>"
      ]
     },
     "metadata": {},
     "output_type": "display_data"
    }
   ],
   "source": [
    "plt.figure(figsize = (15,8))\n",
    "plot = sns.barplot(x  = frecuencias.iloc[:30].Palabra, y = frecuencias.iloc[:30].Frecuencia)\n",
    "for item in plot.get_xticklabels():\n",
    "    item.set_rotation(90)\n",
    "plt.show()"
   ]
  },
  {
   "cell_type": "markdown",
   "metadata": {},
   "source": [
    "Hay tres palabras con una notoria mayor frecuencia en críticas con 1 estrella: 'producto', 'bien' y 'calidad'"
   ]
  },
  {
   "cell_type": "code",
   "execution_count": 67,
   "metadata": {},
   "outputs": [],
   "source": [
    "# Instanciamos las primeras 5 palabras con mayor frecuencia\n",
    "text = list(frecuencias.Palabra[0:5])\n",
    "text = ', '.join(text)"
   ]
  },
  {
   "cell_type": "code",
   "execution_count": 68,
   "metadata": {},
   "outputs": [
    {
     "name": "stdout",
     "output_type": "stream",
     "text": [
      "Las 5 palabras con mayor frecuencia en críticas con 1 estrella son: producto, bien, calidad, llegado, recomiendo.\n"
     ]
    }
   ],
   "source": [
    "print (\"Las 5 palabras con mayor frecuencia en críticas con 1 estrella son: {}.\".format(text))"
   ]
  },
  {
   "cell_type": "code",
   "execution_count": 69,
   "metadata": {},
   "outputs": [
    {
     "name": "stdout",
     "output_type": "stream",
     "text": [
      "Hay 930798 palabras en críticas con 2 estrellas.\n"
     ]
    }
   ],
   "source": [
    "text = \" \".join(review for review in stars_2.criticas_stem)\n",
    "print (\"Hay {} palabras en críticas con 2 estrellas.\".format(len(text)))"
   ]
  },
  {
   "cell_type": "code",
   "execution_count": 70,
   "metadata": {},
   "outputs": [],
   "source": [
    "star2 = []\n",
    "for i in range(stars_2.shape[0]):\n",
    "    critic = stars_2.iloc[i].criticas_stem\n",
    "    critic = nltk.tokenize.RegexpTokenizer(\"[\\w]+\").tokenize(critic)\n",
    "\n",
    "    star2.append(critic)\n",
    "\n",
    "star2 = list(itertools.chain(*star2))"
   ]
  },
  {
   "cell_type": "code",
   "execution_count": 71,
   "metadata": {},
   "outputs": [
    {
     "data": {
      "text/html": [
       "<div>\n",
       "<style scoped>\n",
       "    .dataframe tbody tr th:only-of-type {\n",
       "        vertical-align: middle;\n",
       "    }\n",
       "\n",
       "    .dataframe tbody tr th {\n",
       "        vertical-align: top;\n",
       "    }\n",
       "\n",
       "    .dataframe thead th {\n",
       "        text-align: right;\n",
       "    }\n",
       "</style>\n",
       "<table border=\"1\" class=\"dataframe\">\n",
       "  <thead>\n",
       "    <tr style=\"text-align: right;\">\n",
       "      <th></th>\n",
       "      <th>Palabra</th>\n",
       "      <th>Frecuencia</th>\n",
       "    </tr>\n",
       "  </thead>\n",
       "  <tbody>\n",
       "    <tr>\n",
       "      <th>17</th>\n",
       "      <td>bien</td>\n",
       "      <td>2425</td>\n",
       "    </tr>\n",
       "    <tr>\n",
       "      <th>42</th>\n",
       "      <td>calidad</td>\n",
       "      <td>1447</td>\n",
       "    </tr>\n",
       "    <tr>\n",
       "      <th>62</th>\n",
       "      <td>producto</td>\n",
       "      <td>1210</td>\n",
       "    </tr>\n",
       "    <tr>\n",
       "      <th>239</th>\n",
       "      <td>precio</td>\n",
       "      <td>898</td>\n",
       "    </tr>\n",
       "    <tr>\n",
       "      <th>225</th>\n",
       "      <td>pequ</td>\n",
       "      <td>816</td>\n",
       "    </tr>\n",
       "  </tbody>\n",
       "</table>\n",
       "</div>"
      ],
      "text/plain": [
       "      Palabra  Frecuencia\n",
       "17       bien        2425\n",
       "42    calidad        1447\n",
       "62   producto        1210\n",
       "239    precio         898\n",
       "225      pequ         816"
      ]
     },
     "execution_count": 71,
     "metadata": {},
     "output_type": "execute_result"
    }
   ],
   "source": [
    "freq = nltk.FreqDist(star2)\n",
    "frecuencias = pd.DataFrame(list(freq.items()), columns = ['Palabra',\"Frecuencia\"])\n",
    "frecuencias = frecuencias.sort_values('Frecuencia', ascending = False)\n",
    "frecuencias.head()"
   ]
  },
  {
   "cell_type": "code",
   "execution_count": 72,
   "metadata": {},
   "outputs": [
    {
     "data": {
      "image/png": "[encoded data removed]",
      "text/plain": [
       "<Figure size 1080x576 with 1 Axes>"
      ]
     },
     "metadata": {},
     "output_type": "display_data"
    }
   ],
   "source": [
    "plt.figure(figsize = (15,8))\n",
    "plot = sns.barplot(x  = frecuencias.iloc[:30].Palabra, y = frecuencias.iloc[:30].Frecuencia)\n",
    "for item in plot.get_xticklabels():\n",
    "    item.set_rotation(90)\n",
    "plt.show()"
   ]
  },
  {
   "cell_type": "markdown",
   "metadata": {},
   "source": [
    "Las tres palabras con mayor frecuencia se repiten en las críticas con 2 estrellas"
   ]
  },
  {
   "cell_type": "code",
   "execution_count": 73,
   "metadata": {},
   "outputs": [],
   "source": [
    "# Instanciamos las primeras 5 palabras con mayor frecuencia\n",
    "text = list(frecuencias.Palabra[0:5])\n",
    "text = ', '.join(text)"
   ]
  },
  {
   "cell_type": "code",
   "execution_count": 74,
   "metadata": {},
   "outputs": [
    {
     "name": "stdout",
     "output_type": "stream",
     "text": [
      "Las 5 palabras con mayor frecuencia en críticas con 2 estrellas son: bien, calidad, producto, precio, pequ.\n"
     ]
    }
   ],
   "source": [
    "# Imprimimos las primeras 5 palabras con mayor frecuencia\n",
    "print (\"Las 5 palabras con mayor frecuencia en críticas con 2 estrellas son: {}.\".format(text))"
   ]
  },
  {
   "cell_type": "code",
   "execution_count": 75,
   "metadata": {},
   "outputs": [
    {
     "name": "stdout",
     "output_type": "stream",
     "text": [
      "Hay 855355 palabras en críticas con 3 estrellas.\n"
     ]
    }
   ],
   "source": [
    "text = \" \".join(review for review in stars_3.criticas_stem)\n",
    "print (\"Hay {} palabras en críticas con 3 estrellas.\".format(len(text)))"
   ]
  },
  {
   "cell_type": "code",
   "execution_count": 76,
   "metadata": {},
   "outputs": [],
   "source": [
    "star3 = []\n",
    "for i in range(stars_3.shape[0]):\n",
    "    critic = stars_3.iloc[i].criticas_stem\n",
    "    critic = nltk.tokenize.RegexpTokenizer(\"[\\w]+\").tokenize(critic)\n",
    "\n",
    "    star3.append(critic)\n",
    "\n",
    "star3 = list(itertools.chain(*star3))"
   ]
  },
  {
   "cell_type": "code",
   "execution_count": 77,
   "metadata": {},
   "outputs": [
    {
     "data": {
      "text/html": [
       "<div>\n",
       "<style scoped>\n",
       "    .dataframe tbody tr th:only-of-type {\n",
       "        vertical-align: middle;\n",
       "    }\n",
       "\n",
       "    .dataframe tbody tr th {\n",
       "        vertical-align: top;\n",
       "    }\n",
       "\n",
       "    .dataframe thead th {\n",
       "        text-align: right;\n",
       "    }\n",
       "</style>\n",
       "<table border=\"1\" class=\"dataframe\">\n",
       "  <thead>\n",
       "    <tr style=\"text-align: right;\">\n",
       "      <th></th>\n",
       "      <th>Palabra</th>\n",
       "      <th>Frecuencia</th>\n",
       "    </tr>\n",
       "  </thead>\n",
       "  <tbody>\n",
       "    <tr>\n",
       "      <th>32</th>\n",
       "      <td>bien</td>\n",
       "      <td>3557</td>\n",
       "    </tr>\n",
       "    <tr>\n",
       "      <th>45</th>\n",
       "      <td>calidad</td>\n",
       "      <td>1507</td>\n",
       "    </tr>\n",
       "    <tr>\n",
       "      <th>7</th>\n",
       "      <td>precio</td>\n",
       "      <td>1305</td>\n",
       "    </tr>\n",
       "    <tr>\n",
       "      <th>131</th>\n",
       "      <td>producto</td>\n",
       "      <td>1057</td>\n",
       "    </tr>\n",
       "    <tr>\n",
       "      <th>135</th>\n",
       "      <td>pequ</td>\n",
       "      <td>904</td>\n",
       "    </tr>\n",
       "  </tbody>\n",
       "</table>\n",
       "</div>"
      ],
      "text/plain": [
       "      Palabra  Frecuencia\n",
       "32       bien        3557\n",
       "45    calidad        1507\n",
       "7      precio        1305\n",
       "131  producto        1057\n",
       "135      pequ         904"
      ]
     },
     "execution_count": 77,
     "metadata": {},
     "output_type": "execute_result"
    }
   ],
   "source": [
    "freq = nltk.FreqDist(star3)\n",
    "frecuencias = pd.DataFrame(list(freq.items()), columns = ['Palabra',\"Frecuencia\"]).sort_values('Frecuencia', ascending = False)\n",
    "#frecuencias = frecuencias.sort_values('Frecuencia', ascending = False)\n",
    "frecuencias.head()"
   ]
  },
  {
   "cell_type": "code",
   "execution_count": 78,
   "metadata": {},
   "outputs": [
    {
     "data": {
      "image/png": "[encoded data removed]",
      "text/plain": [
       "<Figure size 1080x576 with 1 Axes>"
      ]
     },
     "metadata": {},
     "output_type": "display_data"
    }
   ],
   "source": [
    "plt.figure(figsize = (15,8))\n",
    "plot = sns.barplot(x  = frecuencias.iloc[:30].Palabra, y = frecuencias.iloc[:30].Frecuencia)\n",
    "for item in plot.get_xticklabels():\n",
    "    item.set_rotation(90)\n",
    "plt.show()"
   ]
  },
  {
   "cell_type": "markdown",
   "metadata": {},
   "source": [
    "En las críticas con 3 estrellas, se repiten: 'bien' y 'calidad' como las palabras con mayor frecuencia. "
   ]
  },
  {
   "cell_type": "code",
   "execution_count": 79,
   "metadata": {},
   "outputs": [],
   "source": [
    "# Instanciamos las primeras 5 palabras con mayor frecuencia\n",
    "text = list(frecuencias.Palabra[0:5])\n",
    "text = ', '.join(text)"
   ]
  },
  {
   "cell_type": "code",
   "execution_count": 80,
   "metadata": {},
   "outputs": [
    {
     "name": "stdout",
     "output_type": "stream",
     "text": [
      "Las 5 palabras con mayor frecuencia en críticas con 3 estrellas son: bien, calidad, precio, producto, pequ.\n"
     ]
    }
   ],
   "source": [
    "# Imprimimos las primeras 5 palabras con mayor frecuencia\n",
    "print (\"Las 5 palabras con mayor frecuencia en críticas con 3 estrellas son: {}.\".format(text))"
   ]
  },
  {
   "cell_type": "code",
   "execution_count": 81,
   "metadata": {},
   "outputs": [
    {
     "name": "stdout",
     "output_type": "stream",
     "text": [
      "Hay 812608 palabras en críticas con 4 estrellas.\n"
     ]
    }
   ],
   "source": [
    "text = \" \".join(review for review in stars_4.criticas_stem)\n",
    "print (\"Hay {} palabras en críticas con 4 estrellas.\".format(len(text)))"
   ]
  },
  {
   "cell_type": "code",
   "execution_count": 82,
   "metadata": {},
   "outputs": [],
   "source": [
    "star4 = []\n",
    "for i in range(stars_4.shape[0]):\n",
    "    critic = stars_4.iloc[i].criticas_stem\n",
    "    critic = nltk.tokenize.RegexpTokenizer(\"[\\w]+\").tokenize(critic)\n",
    "\n",
    "    star4.append(critic)\n",
    "\n",
    "star4 = list(itertools.chain(*star4))"
   ]
  },
  {
   "cell_type": "code",
   "execution_count": 83,
   "metadata": {},
   "outputs": [
    {
     "data": {
      "text/html": [
       "<div>\n",
       "<style scoped>\n",
       "    .dataframe tbody tr th:only-of-type {\n",
       "        vertical-align: middle;\n",
       "    }\n",
       "\n",
       "    .dataframe tbody tr th {\n",
       "        vertical-align: top;\n",
       "    }\n",
       "\n",
       "    .dataframe thead th {\n",
       "        text-align: right;\n",
       "    }\n",
       "</style>\n",
       "<table border=\"1\" class=\"dataframe\">\n",
       "  <thead>\n",
       "    <tr style=\"text-align: right;\">\n",
       "      <th></th>\n",
       "      <th>Palabra</th>\n",
       "      <th>Frecuencia</th>\n",
       "    </tr>\n",
       "  </thead>\n",
       "  <tbody>\n",
       "    <tr>\n",
       "      <th>3</th>\n",
       "      <td>bien</td>\n",
       "      <td>3633</td>\n",
       "    </tr>\n",
       "    <tr>\n",
       "      <th>22</th>\n",
       "      <td>calidad</td>\n",
       "      <td>1802</td>\n",
       "    </tr>\n",
       "    <tr>\n",
       "      <th>16</th>\n",
       "      <td>precio</td>\n",
       "      <td>1785</td>\n",
       "    </tr>\n",
       "    <tr>\n",
       "      <th>108</th>\n",
       "      <td>buena</td>\n",
       "      <td>1630</td>\n",
       "    </tr>\n",
       "    <tr>\n",
       "      <th>15</th>\n",
       "      <td>producto</td>\n",
       "      <td>1117</td>\n",
       "    </tr>\n",
       "  </tbody>\n",
       "</table>\n",
       "</div>"
      ],
      "text/plain": [
       "      Palabra  Frecuencia\n",
       "3        bien        3633\n",
       "22    calidad        1802\n",
       "16     precio        1785\n",
       "108     buena        1630\n",
       "15   producto        1117"
      ]
     },
     "execution_count": 83,
     "metadata": {},
     "output_type": "execute_result"
    }
   ],
   "source": [
    "freq = nltk.FreqDist(star4)\n",
    "frecuencias = pd.DataFrame(list(freq.items()), columns = ['Palabra',\"Frecuencia\"]).sort_values('Frecuencia', ascending = False)\n",
    "#frecuencias = frecuencias.sort_values('Frecuencia', ascending = False)\n",
    "frecuencias.head()"
   ]
  },
  {
   "cell_type": "code",
   "execution_count": 84,
   "metadata": {},
   "outputs": [
    {
     "data": {
      "image/png": "[encoded data removed]",
      "text/plain": [
       "<Figure size 1080x576 with 1 Axes>"
      ]
     },
     "metadata": {},
     "output_type": "display_data"
    }
   ],
   "source": [
    "plt.figure(figsize = (15,8))\n",
    "plot = sns.barplot(x  = frecuencias.iloc[:30].Palabra, y = frecuencias.iloc[:30].Frecuencia)\n",
    "for item in plot.get_xticklabels():\n",
    "    item.set_rotation(90)\n",
    "plt.show()"
   ]
  },
  {
   "cell_type": "markdown",
   "metadata": {},
   "source": [
    "En las críticas con 4 estrellas, se repiten las 3 primeras palabras con mayor frecuencia en relación a las críticas con 3 estrellas."
   ]
  },
  {
   "cell_type": "code",
   "execution_count": 85,
   "metadata": {},
   "outputs": [],
   "source": [
    "# Instanciamos las primeras 5 palabras con mayor frecuencia\n",
    "text = list(frecuencias.Palabra[0:5])\n",
    "text = ', '.join(text)"
   ]
  },
  {
   "cell_type": "code",
   "execution_count": 86,
   "metadata": {},
   "outputs": [
    {
     "name": "stdout",
     "output_type": "stream",
     "text": [
      "Las 5 palabras con mayor frecuencia en críticas con 4 estrellas son: bien, calidad, precio, buena, producto.\n"
     ]
    }
   ],
   "source": [
    "# Imprimimos las primeras 5 palabras con mayor frecuencia\n",
    "print (\"Las 5 palabras con mayor frecuencia en críticas con 4 estrellas son: {}.\".format(text))"
   ]
  },
  {
   "cell_type": "code",
   "execution_count": 87,
   "metadata": {},
   "outputs": [
    {
     "name": "stdout",
     "output_type": "stream",
     "text": [
      "Hay 792380 palabras en críticas con 5 estrellas.\n"
     ]
    }
   ],
   "source": [
    "text = \" \".join(review for review in stars_5.criticas_stem)\n",
    "print (\"Hay {} palabras en críticas con 5 estrellas.\".format(len(text)))"
   ]
  },
  {
   "cell_type": "code",
   "execution_count": 88,
   "metadata": {},
   "outputs": [],
   "source": [
    "star5 = []\n",
    "for i in range(stars_5.shape[0]):\n",
    "    critic = stars_5.iloc[i].criticas_stem\n",
    "    critic = nltk.tokenize.RegexpTokenizer(\"[\\w]+\").tokenize(critic)\n",
    "\n",
    "    star5.append(critic)\n",
    "\n",
    "star5 = list(itertools.chain(*star5))"
   ]
  },
  {
   "cell_type": "code",
   "execution_count": 89,
   "metadata": {},
   "outputs": [
    {
     "data": {
      "text/html": [
       "<div>\n",
       "<style scoped>\n",
       "    .dataframe tbody tr th:only-of-type {\n",
       "        vertical-align: middle;\n",
       "    }\n",
       "\n",
       "    .dataframe tbody tr th {\n",
       "        vertical-align: top;\n",
       "    }\n",
       "\n",
       "    .dataframe thead th {\n",
       "        text-align: right;\n",
       "    }\n",
       "</style>\n",
       "<table border=\"1\" class=\"dataframe\">\n",
       "  <thead>\n",
       "    <tr style=\"text-align: right;\">\n",
       "      <th></th>\n",
       "      <th>Palabra</th>\n",
       "      <th>Frecuencia</th>\n",
       "    </tr>\n",
       "  </thead>\n",
       "  <tbody>\n",
       "    <tr>\n",
       "      <th>8</th>\n",
       "      <td>bien</td>\n",
       "      <td>2410</td>\n",
       "    </tr>\n",
       "    <tr>\n",
       "      <th>104</th>\n",
       "      <td>calidad</td>\n",
       "      <td>2023</td>\n",
       "    </tr>\n",
       "    <tr>\n",
       "      <th>177</th>\n",
       "      <td>buena</td>\n",
       "      <td>1785</td>\n",
       "    </tr>\n",
       "    <tr>\n",
       "      <th>13</th>\n",
       "      <td>precio</td>\n",
       "      <td>1400</td>\n",
       "    </tr>\n",
       "    <tr>\n",
       "      <th>31</th>\n",
       "      <td>perfecto</td>\n",
       "      <td>1281</td>\n",
       "    </tr>\n",
       "  </tbody>\n",
       "</table>\n",
       "</div>"
      ],
      "text/plain": [
       "      Palabra  Frecuencia\n",
       "8        bien        2410\n",
       "104   calidad        2023\n",
       "177     buena        1785\n",
       "13     precio        1400\n",
       "31   perfecto        1281"
      ]
     },
     "execution_count": 89,
     "metadata": {},
     "output_type": "execute_result"
    }
   ],
   "source": [
    "freq = nltk.FreqDist(star5)\n",
    "frecuencias = pd.DataFrame(list(freq.items()), columns = ['Palabra',\"Frecuencia\"]).sort_values('Frecuencia', ascending = False)\n",
    "#frecuencias = frecuencias.sort_values('Frecuencia', ascending = False)\n",
    "frecuencias.head()"
   ]
  },
  {
   "cell_type": "code",
   "execution_count": 90,
   "metadata": {},
   "outputs": [
    {
     "data": {
      "image/png": "[encoded data removed]",
      "text/plain": [
       "<Figure size 1080x576 with 1 Axes>"
      ]
     },
     "metadata": {},
     "output_type": "display_data"
    }
   ],
   "source": [
    "plt.figure(figsize = (15,8))\n",
    "plot = sns.barplot(x  = frecuencias.iloc[:30].Palabra, y = frecuencias.iloc[:30].Frecuencia)\n",
    "for item in plot.get_xticklabels():\n",
    "    item.set_rotation(90)\n",
    "plt.show()"
   ]
  },
  {
   "cell_type": "markdown",
   "metadata": {},
   "source": [
    "Finalmente en la observamos que la palabras co más frecuencia en las críticas con 5 estrellas son: \"bien\", \"calidad\" y \"precio\""
   ]
  },
  {
   "cell_type": "markdown",
   "metadata": {},
   "source": [
    "## Breves Conclusiones sobre la primer parte del análisis exploratorio de datos.\n",
    "Luego de analizar la cantidad de palabras por críticas y su relación con las calificaciones, podemos afirmar que no son una variable que aporte información relevante para la predicción de las calificaciones. La distribuciones según las diferentes calificaciones son homogéneas, por lo tanto no podemos afirmar, por ejemplo,  que una crítica con pocas palabras tenga más o menos probabilidades de ser una crítica mala o buena.\n",
    "Por otro lado, al analizar las frecuencias de las palabras por número de estrella calificada, encontramos que se repiten 3 palabras en todas las calificaciones: \"bien\", \"calidad\" y \"producto\". Como son palabras con mucha frecuencia, distribuidas de manera homogénea en relación a las diferetes calificaciones, no aportan información relevante para realizar una predicción precisa. Deberíamos encontrar aquellas palabras que hacen la diferencia al momento de calificar. \n",
    "Otra caratacterística que no parece aportar mucha información son las diferentes categorías de prodcutos. El promedio y la media de las calificaciones varían en un margen de 2,7 a 3,4 como mínimo y máximo respectivamente, por tipo de producto. En este sentido, no hay tipos de productos que tengan una tendencia a ser calificados con alguna cantidad de estrellas en particular.\n",
    "De todas formas, vamos a continuar maneniendo las variables explicadas y luego evaluaremos su importancia según el modelo elegido."
   ]
  },
  {
   "cell_type": "markdown",
   "metadata": {},
   "source": [
    "### Codificando variables categóricas\n",
    "Vamos utilizar la función get_dummies para codificar la variable categórica \"product_category\" a una variable binaria para poder utilizar los modelos de predicción."
   ]
  },
  {
   "cell_type": "code",
   "execution_count": 91,
   "metadata": {},
   "outputs": [],
   "source": [
    "# Intanciamos al función de pandas get_dummies\n",
    "reg = pd.get_dummies(df.product_category, drop_first=False)\n",
    "df = df.join(reg)"
   ]
  },
  {
   "cell_type": "code",
   "execution_count": 92,
   "metadata": {},
   "outputs": [
    {
     "data": {
      "text/html": [
       "<div>\n",
       "<style scoped>\n",
       "    .dataframe tbody tr th:only-of-type {\n",
       "        vertical-align: middle;\n",
       "    }\n",
       "\n",
       "    .dataframe tbody tr th {\n",
       "        vertical-align: top;\n",
       "    }\n",
       "\n",
       "    .dataframe thead th {\n",
       "        text-align: right;\n",
       "    }\n",
       "</style>\n",
       "<table border=\"1\" class=\"dataframe\">\n",
       "  <thead>\n",
       "    <tr style=\"text-align: right;\">\n",
       "      <th></th>\n",
       "      <th>product_id</th>\n",
       "      <th>reviewer_id</th>\n",
       "      <th>stars</th>\n",
       "      <th>product_category</th>\n",
       "      <th>text_length</th>\n",
       "      <th>nb_words</th>\n",
       "      <th>criticas_stem</th>\n",
       "      <th>apparel</th>\n",
       "      <th>automotive</th>\n",
       "      <th>baby_product</th>\n",
       "      <th>...</th>\n",
       "      <th>other</th>\n",
       "      <th>pc</th>\n",
       "      <th>personal_care_appliances</th>\n",
       "      <th>pet_products</th>\n",
       "      <th>shoes</th>\n",
       "      <th>sports</th>\n",
       "      <th>toy</th>\n",
       "      <th>video_games</th>\n",
       "      <th>watch</th>\n",
       "      <th>wireless</th>\n",
       "    </tr>\n",
       "  </thead>\n",
       "  <tbody>\n",
       "    <tr>\n",
       "      <th>6468</th>\n",
       "      <td>0773990</td>\n",
       "      <td>0443238</td>\n",
       "      <td>1</td>\n",
       "      <td>home</td>\n",
       "      <td>101</td>\n",
       "      <td>21</td>\n",
       "      <td>espera llegu tre fecha entrega primera pasa am...</td>\n",
       "      <td>0</td>\n",
       "      <td>0</td>\n",
       "      <td>0</td>\n",
       "      <td>...</td>\n",
       "      <td>0</td>\n",
       "      <td>0</td>\n",
       "      <td>0</td>\n",
       "      <td>0</td>\n",
       "      <td>0</td>\n",
       "      <td>0</td>\n",
       "      <td>0</td>\n",
       "      <td>0</td>\n",
       "      <td>0</td>\n",
       "      <td>0</td>\n",
       "    </tr>\n",
       "    <tr>\n",
       "      <th>14064</th>\n",
       "      <td>0019996</td>\n",
       "      <td>0925676</td>\n",
       "      <td>1</td>\n",
       "      <td>home</td>\n",
       "      <td>325</td>\n",
       "      <td>61</td>\n",
       "      <td>producto bien montar precio razon compr nico p...</td>\n",
       "      <td>0</td>\n",
       "      <td>0</td>\n",
       "      <td>0</td>\n",
       "      <td>...</td>\n",
       "      <td>0</td>\n",
       "      <td>0</td>\n",
       "      <td>0</td>\n",
       "      <td>0</td>\n",
       "      <td>0</td>\n",
       "      <td>0</td>\n",
       "      <td>0</td>\n",
       "      <td>0</td>\n",
       "      <td>0</td>\n",
       "      <td>0</td>\n",
       "    </tr>\n",
       "    <tr>\n",
       "      <th>20862</th>\n",
       "      <td>0301699</td>\n",
       "      <td>0468082</td>\n",
       "      <td>1</td>\n",
       "      <td>apparel</td>\n",
       "      <td>77</td>\n",
       "      <td>15</td>\n",
       "      <td>despu mese recibido diadema devuelto dinero</td>\n",
       "      <td>1</td>\n",
       "      <td>0</td>\n",
       "      <td>0</td>\n",
       "      <td>...</td>\n",
       "      <td>0</td>\n",
       "      <td>0</td>\n",
       "      <td>0</td>\n",
       "      <td>0</td>\n",
       "      <td>0</td>\n",
       "      <td>0</td>\n",
       "      <td>0</td>\n",
       "      <td>0</td>\n",
       "      <td>0</td>\n",
       "      <td>0</td>\n",
       "    </tr>\n",
       "    <tr>\n",
       "      <th>35994</th>\n",
       "      <td>0778859</td>\n",
       "      <td>0824370</td>\n",
       "      <td>1</td>\n",
       "      <td>pc</td>\n",
       "      <td>44</td>\n",
       "      <td>7</td>\n",
       "      <td>mandan culo haberlo pagado</td>\n",
       "      <td>0</td>\n",
       "      <td>0</td>\n",
       "      <td>0</td>\n",
       "      <td>...</td>\n",
       "      <td>0</td>\n",
       "      <td>1</td>\n",
       "      <td>0</td>\n",
       "      <td>0</td>\n",
       "      <td>0</td>\n",
       "      <td>0</td>\n",
       "      <td>0</td>\n",
       "      <td>0</td>\n",
       "      <td>0</td>\n",
       "      <td>0</td>\n",
       "    </tr>\n",
       "    <tr>\n",
       "      <th>27746</th>\n",
       "      <td>0261843</td>\n",
       "      <td>0782745</td>\n",
       "      <td>1</td>\n",
       "      <td>toy</td>\n",
       "      <td>111</td>\n",
       "      <td>22</td>\n",
       "      <td>producto llegado llegar mayo sigo esperando es...</td>\n",
       "      <td>0</td>\n",
       "      <td>0</td>\n",
       "      <td>0</td>\n",
       "      <td>...</td>\n",
       "      <td>0</td>\n",
       "      <td>0</td>\n",
       "      <td>0</td>\n",
       "      <td>0</td>\n",
       "      <td>0</td>\n",
       "      <td>0</td>\n",
       "      <td>1</td>\n",
       "      <td>0</td>\n",
       "      <td>0</td>\n",
       "      <td>0</td>\n",
       "    </tr>\n",
       "  </tbody>\n",
       "</table>\n",
       "<p>5 rows × 37 columns</p>\n",
       "</div>"
      ],
      "text/plain": [
       "      product_id reviewer_id  stars product_category  text_length  nb_words  \\\n",
       "6468     0773990     0443238      1             home          101        21   \n",
       "14064    0019996     0925676      1             home          325        61   \n",
       "20862    0301699     0468082      1          apparel           77        15   \n",
       "35994    0778859     0824370      1               pc           44         7   \n",
       "27746    0261843     0782745      1              toy          111        22   \n",
       "\n",
       "                                           criticas_stem  apparel  automotive  \\\n",
       "6468   espera llegu tre fecha entrega primera pasa am...        0           0   \n",
       "14064  producto bien montar precio razon compr nico p...        0           0   \n",
       "20862        despu mese recibido diadema devuelto dinero        1           0   \n",
       "35994                         mandan culo haberlo pagado        0           0   \n",
       "27746  producto llegado llegar mayo sigo esperando es...        0           0   \n",
       "\n",
       "       baby_product  ...  other  pc  personal_care_appliances  pet_products  \\\n",
       "6468              0  ...      0   0                         0             0   \n",
       "14064             0  ...      0   0                         0             0   \n",
       "20862             0  ...      0   0                         0             0   \n",
       "35994             0  ...      0   1                         0             0   \n",
       "27746             0  ...      0   0                         0             0   \n",
       "\n",
       "       shoes  sports  toy  video_games  watch  wireless  \n",
       "6468       0       0    0            0      0         0  \n",
       "14064      0       0    0            0      0         0  \n",
       "20862      0       0    0            0      0         0  \n",
       "35994      0       0    0            0      0         0  \n",
       "27746      0       0    1            0      0         0  \n",
       "\n",
       "[5 rows x 37 columns]"
      ]
     },
     "execution_count": 92,
     "metadata": {},
     "output_type": "execute_result"
    }
   ],
   "source": [
    "# Vemos al dataframe con las nuevas variables\n",
    "df.head()"
   ]
  },
  {
   "cell_type": "code",
   "execution_count": 93,
   "metadata": {},
   "outputs": [],
   "source": [
    "# Retiramos la variable categórica\n",
    "df = df.drop('product_category', axis=1)"
   ]
  },
  {
   "cell_type": "code",
   "execution_count": 94,
   "metadata": {},
   "outputs": [
    {
     "data": {
      "text/plain": [
       "(50000, 36)"
      ]
     },
     "execution_count": 94,
     "metadata": {},
     "output_type": "execute_result"
    }
   ],
   "source": [
    "df.shape"
   ]
  },
  {
   "cell_type": "code",
   "execution_count": 95,
   "metadata": {},
   "outputs": [],
   "source": [
    "#df['critica_negativa'] = df['stars'].apply(lambda x: 1 if x < 5 else 0)"
   ]
  },
  {
   "cell_type": "code",
   "execution_count": 96,
   "metadata": {},
   "outputs": [],
   "source": [
    "#mas_frec = list(mas_frec.Palabra)\n",
    "#mas_frec"
   ]
  },
  {
   "cell_type": "markdown",
   "metadata": {},
   "source": [
    "# Vectorizando las palabras.\n",
    "Utilizaremos la función de Sklearn count_vectorizer con el objetivo de generar un un vector con las diferentes palabras de las críticas luego de ser procesadas, stemizadas y tokenizadas.  "
   ]
  },
  {
   "cell_type": "code",
   "execution_count": 97,
   "metadata": {},
   "outputs": [],
   "source": [
    "# Tomamos las palabras de las críticas y hacemos una lista con ellas\n",
    "lista_criticas = list(df['criticas_stem'].values)"
   ]
  },
  {
   "cell_type": "code",
   "execution_count": 98,
   "metadata": {},
   "outputs": [],
   "source": [
    "# Usaremos solo las 1000 palabras con mas frecuencia en todo el corpus para generar los vectores\n",
    "max_features=1000"
   ]
  },
  {
   "cell_type": "code",
   "execution_count": 99,
   "metadata": {},
   "outputs": [],
   "source": [
    "# Es decir que cada instancia tendrá 1000 features\n",
    "cou_vec=CountVectorizer(max_features=max_features)"
   ]
  },
  {
   "cell_type": "code",
   "execution_count": 100,
   "metadata": {},
   "outputs": [],
   "source": [
    "# Realizamos una matriz con las palabras con la función ya instanciada\n",
    "matriz_criticas = cou_vec.fit_transform(lista_criticas)"
   ]
  },
  {
   "cell_type": "code",
   "execution_count": 101,
   "metadata": {},
   "outputs": [],
   "source": [
    "# Tomamos las palabras \n",
    "all_words = cou_vec.get_feature_names()\n"
   ]
  },
  {
   "cell_type": "code",
   "execution_count": 102,
   "metadata": {},
   "outputs": [
    {
     "name": "stdout",
     "output_type": "stream",
     "text": [
      "50 palabras mas usadas:  ['abajo', 'abierta', 'abierto', 'abr', 'abrir', 'absoluto', 'acaba', 'acabado', 'acabo', 'accesorio', 'aceit', 'acept', 'aconsejo', 'adapta', 'adaptador', 'adecuada', 'adecuado', 'adem', 'adema', 'adhesivo', 'agarr', 'agrad', 'agua', 'aguanta', 'agujero', 'ahora', 'air', 'ajust', 'ajusta', 'ajustan', 'alguien', 'alguna', 'alta', 'altavoz', 'alto', 'altura', 'amazon', 'amo', 'ancha', 'ancho', 'anterior', 'anuncio', 'apaga', 'apagado', 'aparato', 'aparec', 'apart', 'apena', 'aplicaci', 'aplicacion']\n"
     ]
    }
   ],
   "source": [
    "# Vizualizamos las 50 palabras mas usadas\n",
    "print(\"50 palabras mas usadas: \",all_words[0:50])"
   ]
  },
  {
   "cell_type": "markdown",
   "metadata": {},
   "source": [
    "## Modelo"
   ]
  },
  {
   "cell_type": "markdown",
   "metadata": {},
   "source": [
    "Vamos a instanciar las variables independientes y la variable respuesta. EN este caso las variables independientes serán todas las variables menos la calificación en estrellas, que será nuestra variable respuesa o a predecir."
   ]
  },
  {
   "cell_type": "markdown",
   "metadata": {},
   "source": [
    "#### Métricas\n",
    "Como métrica para evaluar el rendimiento de los modelos utilizaremos la Accuracy o exactitud. Corresponde a la fracción de muestras que fueron correctamente clasificadas por los modelos de clasificación.  Se obtiene mediante la siguiente fórmula:\n",
    "\n",
    "(VP + VN) / ( VP + VN + FP + FN)\n",
    "\n",
    "La exactitud nos da una idea general de la eficiencia del clasificador, para entender un poco mejor realizaremos un cuadro con otras métricas como precisión, recall y F1-score. \n"
   ]
  },
  {
   "cell_type": "code",
   "execution_count": 103,
   "metadata": {},
   "outputs": [],
   "source": [
    "# Instanciamos las variables\n",
    "X = matriz_criticas.toarray()\n",
    "y = df.stars"
   ]
  },
  {
   "cell_type": "code",
   "execution_count": 104,
   "metadata": {},
   "outputs": [],
   "source": [
    "# Hacemos un train test split\n",
    "X_train, X_test, y_train, y_test = train_test_split(X, y, test_size=0.2, random_state=42, stratify=y)"
   ]
  },
  {
   "cell_type": "markdown",
   "metadata": {},
   "source": [
    "### Modelo Benchmark\n",
    "Como modelo de refencia para evaluar los diferentes modelos predictivos utilizaremos la probabilidad de acertar el número de estrellas según el azar. Sabemos que la calificación se da sobre un número posible de estrellas (n = 5) y el suceso o ocurrencia posible es una sola. Por lo tanto, la probabilidad de acertar la calificación será la razón entre 1 y 5. "
   ]
  },
  {
   "cell_type": "code",
   "execution_count": 105,
   "metadata": {},
   "outputs": [],
   "source": [
    "#Instanciamos el modelo benchmark\n",
    "benchmark = 1/5"
   ]
  },
  {
   "cell_type": "code",
   "execution_count": 106,
   "metadata": {},
   "outputs": [],
   "source": [
    "# Definimos una función que nos permita gráficar la matriz de confusión a fin de evaluar los modelos \n",
    "def confusion(y_test,y_pred):\n",
    "    names=['1','2', '3', '4', '5']\n",
    "    cm=confusion_matrix(y_test,y_pred)\n",
    "    f,ax=plt.subplots(figsize=(5,5))\n",
    "    sns.heatmap(cm,annot=True,linewidth=.5,linecolor=\"r\",fmt=\".0f\",ax=ax)\n",
    "    plt.xlabel(\"y_pred\")\n",
    "    plt.ylabel(\"y_true\")\n",
    "    ax.set_xticklabels(names)\n",
    "    ax.set_yticklabels(names)\n",
    "    plt.show()\n",
    "\n",
    "    return"
   ]
  },
  {
   "cell_type": "markdown",
   "metadata": {},
   "source": [
    "Como primer modelo utilizaremos el GaussianNB, el cual asume que las variables se distribuyen de forma gaussiana o normal. "
   ]
  },
  {
   "cell_type": "code",
   "execution_count": 107,
   "metadata": {},
   "outputs": [],
   "source": [
    "# Instanciamos el modelo\n",
    "nb = GaussianNB()"
   ]
  },
  {
   "cell_type": "code",
   "execution_count": 108,
   "metadata": {},
   "outputs": [
    {
     "data": {
      "text/plain": [
       "GaussianNB()"
      ]
     },
     "execution_count": 108,
     "metadata": {},
     "output_type": "execute_result"
    }
   ],
   "source": [
    "# Entrenamos con los datos de entrenamiento\n",
    "nb.fit(X_train, y_train)"
   ]
  },
  {
   "cell_type": "code",
   "execution_count": 109,
   "metadata": {},
   "outputs": [
    {
     "name": "stdout",
     "output_type": "stream",
     "text": [
      "La exactitud del modelo GaussianNM es :  0.3659\n"
     ]
    }
   ],
   "source": [
    "# Imprimimos la métrica elegida (accuracy)\n",
    "print(\"La exactitud del modelo GaussianNM es : \", nb.score(X_test, y_test))"
   ]
  },
  {
   "cell_type": "markdown",
   "metadata": {},
   "source": [
    "Obtuvimos una exactitud de 0.3659. El siguiente paso es realizar una matriz de confusión para evaluar la clasificación que realizó el modelo."
   ]
  },
  {
   "cell_type": "code",
   "execution_count": 110,
   "metadata": {},
   "outputs": [
    {
     "data": {
      "image/png": "[encoded data removed]",
      "text/plain": [
       "<Figure size 360x360 with 2 Axes>"
      ]
     },
     "metadata": {},
     "output_type": "display_data"
    }
   ],
   "source": [
    "# Realizamos la matriz\n",
    "y_pred=nb.predict(X_test)\n",
    "confusion(y_test,y_pred)"
   ]
  },
  {
   "cell_type": "markdown",
   "metadata": {},
   "source": [
    "A simple vista podemos notar que el modelo clasifica de manera correcta dos etiquetas más que el resto. Las etiquetas con mayores verdaderos positivos son con 1 y 5 estrellas.\n",
    "Otro dato importante es que el modelo clasifica muchas criticas con 3 y 4 estrellas como si fueran de 5, es decir que es donde encuentra más dificultado para discernir. \n",
    "Vamos a utilizar la función classification report de Sklearn para obtener métricas más precisas."
   ]
  },
  {
   "cell_type": "code",
   "execution_count": 111,
   "metadata": {},
   "outputs": [
    {
     "name": "stdout",
     "output_type": "stream",
     "text": [
      "\n",
      "Classification Report\n",
      "\n",
      "              precision    recall  f1-score   support\n",
      "\n",
      "           1       0.52      0.54      0.53      2000\n",
      "           2       0.36      0.20      0.26      2000\n",
      "           3       0.30      0.13      0.18      2000\n",
      "           4       0.32      0.13      0.18      2000\n",
      "           5       0.32      0.82      0.46      2000\n",
      "\n",
      "    accuracy                           0.37     10000\n",
      "   macro avg       0.36      0.37      0.32     10000\n",
      "weighted avg       0.36      0.37      0.32     10000\n",
      "\n"
     ]
    }
   ],
   "source": [
    "# Imprimimos los resultados\n",
    "print('\\nClassification Report\\n')\n",
    "print(classification_report(y_test, y_pred, target_names=['1', '2', '3', '4', '5']))"
   ]
  },
  {
   "cell_type": "markdown",
   "metadata": {},
   "source": [
    "Podemos ver en los resultados, que las mejores métricas se obtienen en las clasificaciones con 1 y 5 estrellas, por lo que podemos pensar que llevar las clasificaciones a etiquetas binarias sería una manera de obener mejores resultados."
   ]
  },
  {
   "cell_type": "markdown",
   "metadata": {},
   "source": [
    "Vamos a realiza el mismo procedimiento con otro modelo, Random Forest de Sklearn."
   ]
  },
  {
   "cell_type": "code",
   "execution_count": 112,
   "metadata": {},
   "outputs": [],
   "source": [
    "# Instanciamos el modelo\n",
    "rf = RandomForestClassifier(random_state=42)"
   ]
  },
  {
   "cell_type": "code",
   "execution_count": 113,
   "metadata": {},
   "outputs": [
    {
     "data": {
      "text/plain": [
       "RandomForestClassifier(random_state=42)"
      ]
     },
     "execution_count": 113,
     "metadata": {},
     "output_type": "execute_result"
    }
   ],
   "source": [
    "# Entrenamos con los datos de entrenamiento\n",
    "rf.fit(X_train, y_train)"
   ]
  },
  {
   "cell_type": "code",
   "execution_count": 114,
   "metadata": {},
   "outputs": [
    {
     "name": "stdout",
     "output_type": "stream",
     "text": [
      "La exactitud del modelo Random Forest Classifier es :  0.3659\n"
     ]
    }
   ],
   "source": [
    "# Imprimimos la métrica elegida (accuracy)\n",
    "print(\"La exactitud del modelo Random Forest Classifier es : \", nb.score(X_test, y_test))"
   ]
  },
  {
   "cell_type": "code",
   "execution_count": 115,
   "metadata": {},
   "outputs": [
    {
     "data": {
      "image/png": "[encoded data removed]",
      "text/plain": [
       "<Figure size 360x360 with 2 Axes>"
      ]
     },
     "metadata": {},
     "output_type": "display_data"
    }
   ],
   "source": [
    "# Realizamos la matriz de confusión\n",
    "y_pred=rf.predict(X_test)\n",
    "confusion(y_test,y_pred)"
   ]
  },
  {
   "cell_type": "markdown",
   "metadata": {},
   "source": [
    "Nuevamente en la matriz de confusión podemos observar que las etiquetas con mayor precisión fueron con 1 y 5 estrellas. A diferencia del caso anterior, la etiqueta con mayor cantidad de verdaderos positivos fueron las clasificaciones con 1 estrella."
   ]
  },
  {
   "cell_type": "code",
   "execution_count": 116,
   "metadata": {},
   "outputs": [
    {
     "name": "stdout",
     "output_type": "stream",
     "text": [
      "\n",
      "Classification Report\n",
      "\n",
      "              precision    recall  f1-score   support\n",
      "\n",
      "           1       0.54      0.62      0.58      2000\n",
      "           2       0.33      0.26      0.29      2000\n",
      "           3       0.31      0.27      0.29      2000\n",
      "           4       0.34      0.36      0.35      2000\n",
      "           5       0.46      0.53      0.49      2000\n",
      "\n",
      "    accuracy                           0.41     10000\n",
      "   macro avg       0.40      0.41      0.40     10000\n",
      "weighted avg       0.40      0.41      0.40     10000\n",
      "\n"
     ]
    }
   ],
   "source": [
    "# Imprimimos los resultados\n",
    "print('\\nClassification Report\\n')\n",
    "print(classification_report(y_test, y_pred, target_names=['1', '2', '3', '4', '5']))"
   ]
  },
  {
   "cell_type": "markdown",
   "metadata": {},
   "source": [
    "En la tabla anterior confirmamos lo dicho sobre la matriz de confusión. Las tres métricas tienen valores superiores en las calificaciones con 1 y 5 estrellas."
   ]
  },
  {
   "cell_type": "markdown",
   "metadata": {},
   "source": [
    "### Optimización de hiperparámetros \n",
    "Vamos a realizar una optimización de hiperparámetros del modelo de Random Forest mediante la función de Random Search de Sklearn "
   ]
  },
  {
   "cell_type": "code",
   "execution_count": 117,
   "metadata": {},
   "outputs": [],
   "source": [
    "# Instanciamos el modelo de árboles random.\n",
    "rf_rs = RandomForestClassifier(random_state=42)"
   ]
  },
  {
   "cell_type": "code",
   "execution_count": 118,
   "metadata": {},
   "outputs": [
    {
     "name": "stdout",
     "output_type": "stream",
     "text": [
      "{'n_estimators': [10, 42, 74, 106, 138, 171, 203, 235, 267, 300], 'max_features': ['auto', 'sqrt'], 'max_depth': [10, 20, 30, 40, 50, 60, 70, 80, 90, 100, 110, None], 'min_samples_split': [2, 5, 10], 'min_samples_leaf': [1, 2, 4], 'bootstrap': [True, False]}\n"
     ]
    }
   ],
   "source": [
    "# Número de árboles. Realizamos un rango de valores mediante la función de numpay linspace\n",
    "n_estimators = [int(x) for x in np.linspace(start = 10, stop = 300, num = 10)]\n",
    "# Número de variables a considerar en cada división de los nodos. Si es \"auto\", la cantidad es igual a n_variables (13) y si es 'sqrt' es sqrt(n_variables)\n",
    "max_features = ['auto', 'sqrt']\n",
    "# Máximo número de niveles en el árbol\n",
    "max_depth = [int(x) for x in np.linspace(10, 110, num = 11)]\n",
    "max_depth.append(None)\n",
    "# Mínimo número de muestras para dividir un nodo\n",
    "min_samples_split = [2, 5, 10]\n",
    "#  Mínimo número de muestras requerido en cada nodo\n",
    "min_samples_leaf = [1, 2, 4]\n",
    "#  Método de selección de muestras para entrenar cada árbol.\n",
    "bootstrap = [True, False]\n",
    "# Creamos la grilla\n",
    "random_grid = {'n_estimators': n_estimators,\n",
    "               'max_features': max_features,\n",
    "               'max_depth': max_depth,\n",
    "               'min_samples_split': min_samples_split,\n",
    "               'min_samples_leaf': min_samples_leaf,\n",
    "               'bootstrap': bootstrap}\n",
    "print(random_grid)"
   ]
  },
  {
   "cell_type": "code",
   "execution_count": 119,
   "metadata": {},
   "outputs": [],
   "source": [
    "# Usamos la grilla para buscar los mejores hiperparámetros\n",
    "# Primero creamos el modelo base para optimizar\n",
    "\n",
    "# Random search de hiperparámtros usando una validación cruzada  de 3 K-folds\n",
    "rf_random = RandomizedSearchCV(estimator = rf_rs, param_distributions = random_grid, n_iter = 5, cv = 3, verbose=2, n_jobs = -1, random_state=42)"
   ]
  },
  {
   "cell_type": "code",
   "execution_count": 120,
   "metadata": {},
   "outputs": [
    {
     "name": "stdout",
     "output_type": "stream",
     "text": [
      "Fitting 3 folds for each of 5 candidates, totalling 15 fits\n"
     ]
    },
    {
     "name": "stderr",
     "output_type": "stream",
     "text": [
      "[Parallel(n_jobs=-1)]: Using backend LokyBackend with 8 concurrent workers.\n",
      "[Parallel(n_jobs=-1)]: Done   8 out of  15 | elapsed:  3.9min remaining:  3.4min\n",
      "[Parallel(n_jobs=-1)]: Done  15 out of  15 | elapsed:  6.7min finished\n"
     ]
    },
    {
     "data": {
      "text/plain": [
       "RandomizedSearchCV(cv=3, estimator=RandomForestClassifier(random_state=42),\n",
       "                   n_iter=5, n_jobs=-1,\n",
       "                   param_distributions={'bootstrap': [True, False],\n",
       "                                        'max_depth': [10, 20, 30, 40, 50, 60,\n",
       "                                                      70, 80, 90, 100, 110,\n",
       "                                                      None],\n",
       "                                        'max_features': ['auto', 'sqrt'],\n",
       "                                        'min_samples_leaf': [1, 2, 4],\n",
       "                                        'min_samples_split': [2, 5, 10],\n",
       "                                        'n_estimators': [10, 42, 74, 106, 138,\n",
       "                                                         171, 203, 235, 267,\n",
       "                                                         300]},\n",
       "                   random_state=42, verbose=2)"
      ]
     },
     "execution_count": 120,
     "metadata": {},
     "output_type": "execute_result"
    }
   ],
   "source": [
    "# Entrenamos\n",
    "rf_random.fit(X_train, y_train)"
   ]
  },
  {
   "cell_type": "code",
   "execution_count": 121,
   "metadata": {},
   "outputs": [
    {
     "name": "stdout",
     "output_type": "stream",
     "text": [
      "Mejores parametros: {'n_estimators': 138, 'min_samples_split': 10, 'min_samples_leaf': 1, 'max_features': 'auto', 'max_depth': 80, 'bootstrap': False}\n",
      "Mejor Score: 0.42754993991093965\n",
      "\n"
     ]
    }
   ],
   "source": [
    "# Imprimimos los mejores parámetros y el mejor rendimiento obtenido en r2\n",
    "print(\"Mejores parametros: \"+str(rf_random.best_params_))\n",
    "print(\"Mejor Score: \"+str(rf_random.best_score_)+'\\n')"
   ]
  },
  {
   "cell_type": "code",
   "execution_count": 122,
   "metadata": {},
   "outputs": [
    {
     "data": {
      "text/html": [
       "<div>\n",
       "<style scoped>\n",
       "    .dataframe tbody tr th:only-of-type {\n",
       "        vertical-align: middle;\n",
       "    }\n",
       "\n",
       "    .dataframe tbody tr th {\n",
       "        vertical-align: top;\n",
       "    }\n",
       "\n",
       "    .dataframe thead th {\n",
       "        text-align: right;\n",
       "    }\n",
       "</style>\n",
       "<table border=\"1\" class=\"dataframe\">\n",
       "  <thead>\n",
       "    <tr style=\"text-align: right;\">\n",
       "      <th></th>\n",
       "      <th>mean_fit_time</th>\n",
       "      <th>std_fit_time</th>\n",
       "      <th>mean_score_time</th>\n",
       "      <th>std_score_time</th>\n",
       "      <th>param_n_estimators</th>\n",
       "      <th>param_min_samples_split</th>\n",
       "      <th>param_min_samples_leaf</th>\n",
       "      <th>param_max_features</th>\n",
       "      <th>param_max_depth</th>\n",
       "      <th>param_bootstrap</th>\n",
       "      <th>params</th>\n",
       "      <th>split0_test_score</th>\n",
       "      <th>split1_test_score</th>\n",
       "      <th>split2_test_score</th>\n",
       "      <th>mean_test_score</th>\n",
       "      <th>std_test_score</th>\n",
       "      <th>rank_test_score</th>\n",
       "    </tr>\n",
       "  </thead>\n",
       "  <tbody>\n",
       "    <tr>\n",
       "      <th>0</th>\n",
       "      <td>25.640165</td>\n",
       "      <td>1.817828</td>\n",
       "      <td>0.502369</td>\n",
       "      <td>0.035314</td>\n",
       "      <td>10</td>\n",
       "      <td>10</td>\n",
       "      <td>2</td>\n",
       "      <td>sqrt</td>\n",
       "      <td>50</td>\n",
       "      <td>True</td>\n",
       "      <td>{'n_estimators': 10, 'min_samples_split': 10, ...</td>\n",
       "      <td>0.407005</td>\n",
       "      <td>0.400660</td>\n",
       "      <td>0.409210</td>\n",
       "      <td>0.405625</td>\n",
       "      <td>0.003624</td>\n",
       "      <td>5</td>\n",
       "    </tr>\n",
       "    <tr>\n",
       "      <th>1</th>\n",
       "      <td>223.810328</td>\n",
       "      <td>2.144089</td>\n",
       "      <td>3.202322</td>\n",
       "      <td>0.312461</td>\n",
       "      <td>74</td>\n",
       "      <td>10</td>\n",
       "      <td>4</td>\n",
       "      <td>sqrt</td>\n",
       "      <td>90</td>\n",
       "      <td>False</td>\n",
       "      <td>{'n_estimators': 74, 'min_samples_split': 10, ...</td>\n",
       "      <td>0.424779</td>\n",
       "      <td>0.422636</td>\n",
       "      <td>0.426236</td>\n",
       "      <td>0.424550</td>\n",
       "      <td>0.001479</td>\n",
       "      <td>2</td>\n",
       "    </tr>\n",
       "    <tr>\n",
       "      <th>2</th>\n",
       "      <td>199.245011</td>\n",
       "      <td>4.368334</td>\n",
       "      <td>2.777064</td>\n",
       "      <td>0.184644</td>\n",
       "      <td>74</td>\n",
       "      <td>2</td>\n",
       "      <td>2</td>\n",
       "      <td>auto</td>\n",
       "      <td>60</td>\n",
       "      <td>False</td>\n",
       "      <td>{'n_estimators': 74, 'min_samples_split': 2, '...</td>\n",
       "      <td>0.425079</td>\n",
       "      <td>0.421511</td>\n",
       "      <td>0.425486</td>\n",
       "      <td>0.424025</td>\n",
       "      <td>0.001786</td>\n",
       "      <td>3</td>\n",
       "    </tr>\n",
       "    <tr>\n",
       "      <th>3</th>\n",
       "      <td>168.977630</td>\n",
       "      <td>47.280877</td>\n",
       "      <td>3.115000</td>\n",
       "      <td>0.719385</td>\n",
       "      <td>203</td>\n",
       "      <td>5</td>\n",
       "      <td>1</td>\n",
       "      <td>sqrt</td>\n",
       "      <td>30</td>\n",
       "      <td>True</td>\n",
       "      <td>{'n_estimators': 203, 'min_samples_split': 5, ...</td>\n",
       "      <td>0.416079</td>\n",
       "      <td>0.413560</td>\n",
       "      <td>0.417160</td>\n",
       "      <td>0.415600</td>\n",
       "      <td>0.001508</td>\n",
       "      <td>4</td>\n",
       "    </tr>\n",
       "    <tr>\n",
       "      <th>4</th>\n",
       "      <td>173.038260</td>\n",
       "      <td>4.933790</td>\n",
       "      <td>2.224186</td>\n",
       "      <td>0.145145</td>\n",
       "      <td>138</td>\n",
       "      <td>10</td>\n",
       "      <td>1</td>\n",
       "      <td>auto</td>\n",
       "      <td>80</td>\n",
       "      <td>False</td>\n",
       "      <td>{'n_estimators': 138, 'min_samples_split': 10,...</td>\n",
       "      <td>0.429954</td>\n",
       "      <td>0.425336</td>\n",
       "      <td>0.427361</td>\n",
       "      <td>0.427550</td>\n",
       "      <td>0.001890</td>\n",
       "      <td>1</td>\n",
       "    </tr>\n",
       "  </tbody>\n",
       "</table>\n",
       "</div>"
      ],
      "text/plain": [
       "   mean_fit_time  std_fit_time  mean_score_time  std_score_time  \\\n",
       "0      25.640165      1.817828         0.502369        0.035314   \n",
       "1     223.810328      2.144089         3.202322        0.312461   \n",
       "2     199.245011      4.368334         2.777064        0.184644   \n",
       "3     168.977630     47.280877         3.115000        0.719385   \n",
       "4     173.038260      4.933790         2.224186        0.145145   \n",
       "\n",
       "  param_n_estimators param_min_samples_split param_min_samples_leaf  \\\n",
       "0                 10                      10                      2   \n",
       "1                 74                      10                      4   \n",
       "2                 74                       2                      2   \n",
       "3                203                       5                      1   \n",
       "4                138                      10                      1   \n",
       "\n",
       "  param_max_features param_max_depth param_bootstrap  \\\n",
       "0               sqrt              50            True   \n",
       "1               sqrt              90           False   \n",
       "2               auto              60           False   \n",
       "3               sqrt              30            True   \n",
       "4               auto              80           False   \n",
       "\n",
       "                                              params  split0_test_score  \\\n",
       "0  {'n_estimators': 10, 'min_samples_split': 10, ...           0.407005   \n",
       "1  {'n_estimators': 74, 'min_samples_split': 10, ...           0.424779   \n",
       "2  {'n_estimators': 74, 'min_samples_split': 2, '...           0.425079   \n",
       "3  {'n_estimators': 203, 'min_samples_split': 5, ...           0.416079   \n",
       "4  {'n_estimators': 138, 'min_samples_split': 10,...           0.429954   \n",
       "\n",
       "   split1_test_score  split2_test_score  mean_test_score  std_test_score  \\\n",
       "0           0.400660           0.409210         0.405625        0.003624   \n",
       "1           0.422636           0.426236         0.424550        0.001479   \n",
       "2           0.421511           0.425486         0.424025        0.001786   \n",
       "3           0.413560           0.417160         0.415600        0.001508   \n",
       "4           0.425336           0.427361         0.427550        0.001890   \n",
       "\n",
       "   rank_test_score  \n",
       "0                5  \n",
       "1                2  \n",
       "2                3  \n",
       "3                4  \n",
       "4                1  "
      ]
     },
     "execution_count": 122,
     "metadata": {},
     "output_type": "execute_result"
    }
   ],
   "source": [
    "scores = pd.DataFrame(rf_random.cv_results_)\n",
    "scores"
   ]
  },
  {
   "cell_type": "code",
   "execution_count": 123,
   "metadata": {},
   "outputs": [],
   "source": [
    "# Definimos una función para evaluar la mejora en el rendimiento con los hiperparámetros elegidos mediante Random Search\n",
    "def evaluando(modelo, test_features, test_labels):\n",
    "    predictions = modelo.predict(test_features)\n",
    "    errors = abs(predictions - test_labels)\n",
    "    mape = 100 * np.mean(errors / test_labels)\n",
    "    accuracy = 100 - mape\n",
    "    print('Performance del modelo')\n",
    "    print('Error promedio: {:0.4f} grados.'.format(np.mean(errors)))\n",
    "    print('Accuracy = {:0.2f}%.'.format(accuracy))\n",
    "    \n",
    "    return accuracy"
   ]
  },
  {
   "cell_type": "code",
   "execution_count": 124,
   "metadata": {},
   "outputs": [],
   "source": [
    "# Instanciamos el modelo base\n",
    "base_model = RandomForestClassifier(random_state=42)\n"
   ]
  },
  {
   "cell_type": "code",
   "execution_count": 125,
   "metadata": {},
   "outputs": [
    {
     "data": {
      "text/plain": [
       "RandomForestClassifier(random_state=42)"
      ]
     },
     "execution_count": 125,
     "metadata": {},
     "output_type": "execute_result"
    }
   ],
   "source": [
    "# Entrenamos el modelo\n",
    "base_model.fit(X_train, y_train)"
   ]
  },
  {
   "cell_type": "code",
   "execution_count": 126,
   "metadata": {},
   "outputs": [
    {
     "name": "stdout",
     "output_type": "stream",
     "text": [
      "Performance del modelo\n",
      "Error promedio: 0.9126 grados.\n",
      "Accuracy = 59.66%.\n"
     ]
    }
   ],
   "source": [
    "# Instanciamos la función con el modelo base\n",
    "base_accuracy = evaluando(base_model, X_test, y_test)"
   ]
  },
  {
   "cell_type": "code",
   "execution_count": 127,
   "metadata": {},
   "outputs": [
    {
     "name": "stdout",
     "output_type": "stream",
     "text": [
      "Performance del modelo\n",
      "Error promedio: 0.8684 grados.\n",
      "Accuracy = 63.79%.\n"
     ]
    }
   ],
   "source": [
    "# Evaluamos con el mejor estimador\n",
    "best_random = rf_random.best_estimator_\n",
    "random_accuracy = evaluando(best_random, X_test, y_test)"
   ]
  },
  {
   "cell_type": "code",
   "execution_count": 128,
   "metadata": {},
   "outputs": [
    {
     "name": "stdout",
     "output_type": "stream",
     "text": [
      "La mejora luego de optimizar los hiperparámetros es de 6.91%.\n"
     ]
    }
   ],
   "source": [
    "#Imprimimos la mejora\n",
    "print('La mejora luego de optimizar los hiperparámetros es de {:0.2f}%.'.format( 100 * (random_accuracy - base_accuracy) / base_accuracy))"
   ]
  },
  {
   "cell_type": "code",
   "execution_count": 129,
   "metadata": {},
   "outputs": [],
   "source": [
    "# Le preguntamos la importancia de cada feature (cada palabra)\n",
    "importances = best_random.feature_importances_\n",
    "# Tomamos la lista de palabras\n",
    "all_words = cou_vec.get_feature_names()\n",
    "columns = all_words\n",
    "\n",
    "# Ordenamos por importnacia y tomamos las 20 primeras\n",
    "indices = np.argsort(importances)[::-1]\n",
    "indices = indices[:20]\n",
    "selected_columns = [columns[i] for i in indices]\n",
    "selected_importances = importances[indices]"
   ]
  },
  {
   "cell_type": "code",
   "execution_count": 130,
   "metadata": {},
   "outputs": [
    {
     "data": {
      "image/png": "[encoded data removed]",
      "text/plain": [
       "<Figure size 1080x576 with 1 Axes>"
      ]
     },
     "metadata": {},
     "output_type": "display_data"
    }
   ],
   "source": [
    "# Por ultimo graficamos\n",
    "plt.figure(figsize = (15,8))\n",
    "plt.title('Importancia de cada feature')\n",
    "plt.xticks(rotation = 90)\n",
    "sns.barplot(selected_columns, selected_importances)\n",
    "plt.show()"
   ]
  },
  {
   "cell_type": "markdown",
   "metadata": {},
   "source": [
    "En el gráfico podemos observar las palabras que tuvieron más relevancia para realizar las predicciones."
   ]
  },
  {
   "cell_type": "markdown",
   "metadata": {},
   "source": [
    "Vamos a realizar una matriz de confusión para evaluar cómo predijo el modelo las etiquetas."
   ]
  },
  {
   "cell_type": "code",
   "execution_count": 131,
   "metadata": {},
   "outputs": [
    {
     "data": {
      "image/png": "[encoded data removed]",
      "text/plain": [
       "<Figure size 360x360 with 2 Axes>"
      ]
     },
     "metadata": {},
     "output_type": "display_data"
    }
   ],
   "source": [
    "y_pred=best_random.predict(X_test)\n",
    "confusion(y_test,y_pred)"
   ]
  },
  {
   "cell_type": "markdown",
   "metadata": {},
   "source": [
    "Nuevamente las etiquetas que obtuvieron más verdadero positivos fueron las que calificaciones con 1 y 5 estrellas."
   ]
  },
  {
   "cell_type": "code",
   "execution_count": 132,
   "metadata": {},
   "outputs": [
    {
     "name": "stdout",
     "output_type": "stream",
     "text": [
      "\n",
      "Classification Report\n",
      "\n",
      "              precision    recall  f1-score   support\n",
      "\n",
      "           1       0.56      0.62      0.59      2000\n",
      "           2       0.31      0.35      0.33      2000\n",
      "           3       0.32      0.28      0.30      2000\n",
      "           4       0.39      0.32      0.35      2000\n",
      "           5       0.51      0.54      0.52      2000\n",
      "\n",
      "    accuracy                           0.42     10000\n",
      "   macro avg       0.42      0.42      0.42     10000\n",
      "weighted avg       0.42      0.42      0.42     10000\n",
      "\n"
     ]
    }
   ],
   "source": [
    "# Imprimimos los resultados\n",
    "print('\\nClassification Report\\n')\n",
    "print(classification_report(y_test, y_pred, target_names=['1', '2', '3', '4', '5']))"
   ]
  },
  {
   "cell_type": "markdown",
   "metadata": {},
   "source": [
    "En la tabla anterior confirmamos lo dicho sobre la matriz de confusión. Las tres métricas tienen valores superiores en las calificaciones con 1 y 5 estrellas."
   ]
  },
  {
   "cell_type": "markdown",
   "metadata": {},
   "source": [
    "### Modelo LinearSVC"
   ]
  },
  {
   "cell_type": "markdown",
   "metadata": {},
   "source": [
    "Utilizaremos como modelo el LinearSVC de SKlearn con la misma metodología utilizada con los anteriores."
   ]
  },
  {
   "cell_type": "code",
   "execution_count": 133,
   "metadata": {},
   "outputs": [],
   "source": [
    "# Notar que en vez de utilizar SVC, vamos a usar LinearSVC. \n",
    "# Para el Kernel Lineal, esta función es MUCHO mas rapida que la tradicional SVC.\n",
    "svc = LinearSVC()"
   ]
  },
  {
   "cell_type": "code",
   "execution_count": 134,
   "metadata": {},
   "outputs": [
    {
     "data": {
      "text/plain": [
       "LinearSVC()"
      ]
     },
     "execution_count": 134,
     "metadata": {},
     "output_type": "execute_result"
    }
   ],
   "source": [
    "# Entrenamos el modelo\n",
    "svc.fit(X_train, y_train)"
   ]
  },
  {
   "cell_type": "code",
   "execution_count": 135,
   "metadata": {},
   "outputs": [
    {
     "name": "stdout",
     "output_type": "stream",
     "text": [
      "La exactitud del modelo LinearSVC es :  0.4486\n"
     ]
    }
   ],
   "source": [
    "# Imprimimos la métrica elegida (accuracy)\n",
    "print(\"La exactitud del modelo LinearSVC es : \", svc.score(X_test, y_test))"
   ]
  },
  {
   "cell_type": "markdown",
   "metadata": {},
   "source": [
    "Realizamos la matriz"
   ]
  },
  {
   "cell_type": "code",
   "execution_count": 136,
   "metadata": {},
   "outputs": [
    {
     "data": {
      "image/png": "[encoded data removed]",
      "text/plain": [
       "<Figure size 360x360 with 2 Axes>"
      ]
     },
     "metadata": {},
     "output_type": "display_data"
    }
   ],
   "source": [
    "y_pred=svc.predict(X_test)\n",
    "confusion(y_test,y_pred)"
   ]
  },
  {
   "cell_type": "code",
   "execution_count": 137,
   "metadata": {},
   "outputs": [
    {
     "name": "stdout",
     "output_type": "stream",
     "text": [
      "\n",
      "Classification Report\n",
      "\n",
      "              precision    recall  f1-score   support\n",
      "\n",
      "           1       0.53      0.69      0.60      2000\n",
      "           2       0.37      0.29      0.32      2000\n",
      "           3       0.34      0.27      0.30      2000\n",
      "           4       0.40      0.34      0.37      2000\n",
      "           5       0.52      0.65      0.58      2000\n",
      "\n",
      "    accuracy                           0.45     10000\n",
      "   macro avg       0.43      0.45      0.43     10000\n",
      "weighted avg       0.43      0.45      0.43     10000\n",
      "\n"
     ]
    }
   ],
   "source": [
    "# Imprimimos los resultados\n",
    "print('\\nClassification Report\\n')\n",
    "print(classification_report(y_test, y_pred, target_names=['1', '2', '3', '4', '5']))"
   ]
  },
  {
   "cell_type": "markdown",
   "metadata": {},
   "source": [
    "En la tabla anterior confirmamos lo dicho sobre la matriz de confusión. Las tres métricas tienen valores superiores en las calificaciones con 1 y 5 estrellas."
   ]
  },
  {
   "cell_type": "markdown",
   "metadata": {},
   "source": [
    "### Optimización de hiperparámetros \n",
    "Vamos a realizar una optimización de hiperparámetros del modelo de SVC mediante la función de Random Search de Sklearn "
   ]
  },
  {
   "cell_type": "code",
   "execution_count": 138,
   "metadata": {},
   "outputs": [],
   "source": [
    "# Instanciamos el modelo\n",
    "svc = LinearSVC()"
   ]
  },
  {
   "cell_type": "code",
   "execution_count": 139,
   "metadata": {},
   "outputs": [
    {
     "name": "stdout",
     "output_type": "stream",
     "text": [
      "{'C': [0.1, 1, 10, 100]}\n"
     ]
    }
   ],
   "source": [
    "# Generamos la grilla\n",
    "# C: regularización. Peso asignado a los errores. Si es alto, clasifica todos los puntos de manera correcta, pero aumenta la posibilidad de sobre ajuste. \n",
    "C = [0.1,1, 10, 100]\n",
    "\n",
    "\n",
    "# Creamos la grilla\n",
    "random_grid = {'C': C\n",
    "               }\n",
    "print(random_grid)"
   ]
  },
  {
   "cell_type": "code",
   "execution_count": 140,
   "metadata": {},
   "outputs": [],
   "source": [
    "# Usamos la grilla para buscar los mejores hiperparámetros\n",
    "# Primero creamos el modelo base para optimizar\n",
    "# Random search de hiperparámtros usando una validación cruzada  de 3 K-folds\n",
    "svc_random = RandomizedSearchCV(estimator = svc, param_distributions = random_grid, n_iter = 5, cv = 3, verbose=2, n_jobs = -1, random_state=42)"
   ]
  },
  {
   "cell_type": "code",
   "execution_count": 141,
   "metadata": {},
   "outputs": [
    {
     "name": "stdout",
     "output_type": "stream",
     "text": [
      "Fitting 3 folds for each of 4 candidates, totalling 12 fits\n"
     ]
    },
    {
     "name": "stderr",
     "output_type": "stream",
     "text": [
      "[Parallel(n_jobs=-1)]: Using backend LokyBackend with 8 concurrent workers.\n",
      "[Parallel(n_jobs=-1)]: Done   4 out of  12 | elapsed:  1.4min remaining:  2.9min\n",
      "[Parallel(n_jobs=-1)]: Done  12 out of  12 | elapsed:  1.9min finished\n"
     ]
    },
    {
     "data": {
      "text/plain": [
       "RandomizedSearchCV(cv=3, estimator=LinearSVC(), n_iter=5, n_jobs=-1,\n",
       "                   param_distributions={'C': [0.1, 1, 10, 100]},\n",
       "                   random_state=42, verbose=2)"
      ]
     },
     "execution_count": 141,
     "metadata": {},
     "output_type": "execute_result"
    }
   ],
   "source": [
    "# Entrenamos\n",
    "svc_random.fit(X_train, y_train)"
   ]
  },
  {
   "cell_type": "code",
   "execution_count": 142,
   "metadata": {},
   "outputs": [
    {
     "name": "stdout",
     "output_type": "stream",
     "text": [
      "Mejores parametros: {'C': 0.1}\n",
      "Mejor Score: 0.4421750468015488\n",
      "\n"
     ]
    }
   ],
   "source": [
    "# Imprimimos los mejores parámetros y el mejor rendimiento obtenido en r2\n",
    "print(\"Mejores parametros: \"+str(svc_random.best_params_))\n",
    "print(\"Mejor Score: \"+str(svc_random.best_score_)+'\\n')"
   ]
  },
  {
   "cell_type": "code",
   "execution_count": 143,
   "metadata": {},
   "outputs": [
    {
     "data": {
      "text/html": [
       "<div>\n",
       "<style scoped>\n",
       "    .dataframe tbody tr th:only-of-type {\n",
       "        vertical-align: middle;\n",
       "    }\n",
       "\n",
       "    .dataframe tbody tr th {\n",
       "        vertical-align: top;\n",
       "    }\n",
       "\n",
       "    .dataframe thead th {\n",
       "        text-align: right;\n",
       "    }\n",
       "</style>\n",
       "<table border=\"1\" class=\"dataframe\">\n",
       "  <thead>\n",
       "    <tr style=\"text-align: right;\">\n",
       "      <th></th>\n",
       "      <th>mean_fit_time</th>\n",
       "      <th>std_fit_time</th>\n",
       "      <th>mean_score_time</th>\n",
       "      <th>std_score_time</th>\n",
       "      <th>param_C</th>\n",
       "      <th>params</th>\n",
       "      <th>split0_test_score</th>\n",
       "      <th>split1_test_score</th>\n",
       "      <th>split2_test_score</th>\n",
       "      <th>mean_test_score</th>\n",
       "      <th>std_test_score</th>\n",
       "      <th>rank_test_score</th>\n",
       "    </tr>\n",
       "  </thead>\n",
       "  <tbody>\n",
       "    <tr>\n",
       "      <th>0</th>\n",
       "      <td>29.696368</td>\n",
       "      <td>1.617311</td>\n",
       "      <td>0.839062</td>\n",
       "      <td>0.277281</td>\n",
       "      <td>0.1</td>\n",
       "      <td>{'C': 0.1}</td>\n",
       "      <td>0.440303</td>\n",
       "      <td>0.442586</td>\n",
       "      <td>0.443636</td>\n",
       "      <td>0.442175</td>\n",
       "      <td>0.001391</td>\n",
       "      <td>1</td>\n",
       "    </tr>\n",
       "    <tr>\n",
       "      <th>1</th>\n",
       "      <td>81.830926</td>\n",
       "      <td>0.470147</td>\n",
       "      <td>0.640048</td>\n",
       "      <td>0.065105</td>\n",
       "      <td>1</td>\n",
       "      <td>{'C': 1}</td>\n",
       "      <td>0.438428</td>\n",
       "      <td>0.441536</td>\n",
       "      <td>0.442286</td>\n",
       "      <td>0.440750</td>\n",
       "      <td>0.001670</td>\n",
       "      <td>3</td>\n",
       "    </tr>\n",
       "    <tr>\n",
       "      <th>2</th>\n",
       "      <td>81.690848</td>\n",
       "      <td>9.050061</td>\n",
       "      <td>0.386694</td>\n",
       "      <td>0.125931</td>\n",
       "      <td>10</td>\n",
       "      <td>{'C': 10}</td>\n",
       "      <td>0.439328</td>\n",
       "      <td>0.443411</td>\n",
       "      <td>0.442661</td>\n",
       "      <td>0.441800</td>\n",
       "      <td>0.001775</td>\n",
       "      <td>2</td>\n",
       "    </tr>\n",
       "    <tr>\n",
       "      <th>3</th>\n",
       "      <td>56.654627</td>\n",
       "      <td>18.605223</td>\n",
       "      <td>0.110341</td>\n",
       "      <td>0.006018</td>\n",
       "      <td>100</td>\n",
       "      <td>{'C': 100}</td>\n",
       "      <td>0.393205</td>\n",
       "      <td>0.393760</td>\n",
       "      <td>0.402385</td>\n",
       "      <td>0.396450</td>\n",
       "      <td>0.004203</td>\n",
       "      <td>4</td>\n",
       "    </tr>\n",
       "  </tbody>\n",
       "</table>\n",
       "</div>"
      ],
      "text/plain": [
       "   mean_fit_time  std_fit_time  mean_score_time  std_score_time param_C  \\\n",
       "0      29.696368      1.617311         0.839062        0.277281     0.1   \n",
       "1      81.830926      0.470147         0.640048        0.065105       1   \n",
       "2      81.690848      9.050061         0.386694        0.125931      10   \n",
       "3      56.654627     18.605223         0.110341        0.006018     100   \n",
       "\n",
       "       params  split0_test_score  split1_test_score  split2_test_score  \\\n",
       "0  {'C': 0.1}           0.440303           0.442586           0.443636   \n",
       "1    {'C': 1}           0.438428           0.441536           0.442286   \n",
       "2   {'C': 10}           0.439328           0.443411           0.442661   \n",
       "3  {'C': 100}           0.393205           0.393760           0.402385   \n",
       "\n",
       "   mean_test_score  std_test_score  rank_test_score  \n",
       "0         0.442175        0.001391                1  \n",
       "1         0.440750        0.001670                3  \n",
       "2         0.441800        0.001775                2  \n",
       "3         0.396450        0.004203                4  "
      ]
     },
     "execution_count": 143,
     "metadata": {},
     "output_type": "execute_result"
    }
   ],
   "source": [
    "scores = pd.DataFrame(svc_random.cv_results_)\n",
    "scores"
   ]
  },
  {
   "cell_type": "code",
   "execution_count": 144,
   "metadata": {},
   "outputs": [],
   "source": [
    "# Instanciamos el modelo base para calcular la mejora\n",
    "base_model =  LinearSVC()"
   ]
  },
  {
   "cell_type": "code",
   "execution_count": 145,
   "metadata": {},
   "outputs": [
    {
     "data": {
      "text/plain": [
       "LinearSVC()"
      ]
     },
     "execution_count": 145,
     "metadata": {},
     "output_type": "execute_result"
    }
   ],
   "source": [
    "# Entrenamos el modelo\n",
    "base_model.fit(X_train, y_train)"
   ]
  },
  {
   "cell_type": "code",
   "execution_count": 146,
   "metadata": {},
   "outputs": [
    {
     "name": "stdout",
     "output_type": "stream",
     "text": [
      "Performance del modelo\n",
      "Error promedio: 0.8355 grados.\n",
      "Accuracy = 64.46%.\n"
     ]
    }
   ],
   "source": [
    "# Instanciamos la función con el modelo base\n",
    "base_accuracy = evaluando(base_model, X_test, y_test)"
   ]
  },
  {
   "cell_type": "code",
   "execution_count": 147,
   "metadata": {},
   "outputs": [
    {
     "name": "stdout",
     "output_type": "stream",
     "text": [
      "Performance del modelo\n",
      "Error promedio: 0.8324 grados.\n",
      "Accuracy = 64.77%.\n"
     ]
    }
   ],
   "source": [
    "# Evaluamos con el mejor estimador\n",
    "best_random = svc_random.best_estimator_\n",
    "random_accuracy = evaluando(best_random, X_test, y_test)"
   ]
  },
  {
   "cell_type": "code",
   "execution_count": 148,
   "metadata": {},
   "outputs": [
    {
     "name": "stdout",
     "output_type": "stream",
     "text": [
      "La mejora luego de optimizar los hiperparámetros es de 0.48%.\n"
     ]
    }
   ],
   "source": [
    "#Imprimimos la mejora\n",
    "print('La mejora luego de optimizar los hiperparámetros es de {:0.2f}%.'.format( 100 * (random_accuracy - base_accuracy) / base_accuracy))"
   ]
  },
  {
   "cell_type": "code",
   "execution_count": 149,
   "metadata": {},
   "outputs": [
    {
     "data": {
      "image/png": "[encoded data removed]",
      "text/plain": [
       "<Figure size 360x360 with 2 Axes>"
      ]
     },
     "metadata": {},
     "output_type": "display_data"
    }
   ],
   "source": [
    "# Realizamos la matriz de confusión\n",
    "y_pred=best_random.predict(X_test)\n",
    "confusion(y_test,y_pred)"
   ]
  },
  {
   "cell_type": "markdown",
   "metadata": {},
   "source": [
    "Se repite el patrón para el modelo LinearSVC, las categorías con más verdaderos positivos son las clasificaciones con 1 y 5 estrellas"
   ]
  },
  {
   "cell_type": "code",
   "execution_count": 150,
   "metadata": {},
   "outputs": [
    {
     "name": "stdout",
     "output_type": "stream",
     "text": [
      "\n",
      "Classification Report\n",
      "\n",
      "              precision    recall  f1-score   support\n",
      "\n",
      "           1       0.53      0.69      0.60      2000\n",
      "           2       0.37      0.29      0.33      2000\n",
      "           3       0.34      0.27      0.30      2000\n",
      "           4       0.40      0.34      0.36      2000\n",
      "           5       0.52      0.65      0.58      2000\n",
      "\n",
      "    accuracy                           0.45     10000\n",
      "   macro avg       0.43      0.45      0.43     10000\n",
      "weighted avg       0.43      0.45      0.43     10000\n",
      "\n"
     ]
    }
   ],
   "source": [
    "# Imprimimos los resultados\n",
    "print('\\nClassification Report\\n')\n",
    "print(classification_report(y_test, y_pred, target_names=['1', '2', '3', '4', '5']))"
   ]
  },
  {
   "cell_type": "markdown",
   "metadata": {},
   "source": [
    "Los resultados de las 3 métricas elegias confirman lo visto en la matriz de confusión"
   ]
  },
  {
   "cell_type": "markdown",
   "metadata": {},
   "source": [
    "### Comparando los modelos\n",
    "vamos a generar una función que nos permita evaluar y comparar los 3 modelos con el fin de elegir el más exacto."
   ]
  },
  {
   "cell_type": "code",
   "execution_count": 151,
   "metadata": {},
   "outputs": [],
   "source": [
    "# Definimos la función para RSME\n",
    "def comparar_modelos(train, label):\n",
    "    results={}\n",
    "    def test_model(clf):\n",
    "        \n",
    "        y_test_pred = clf.predict(train)\n",
    "        accuracy_test = accuracy_score(label, y_test_pred)\n",
    "        return accuracy_test\n",
    "\n",
    "\n",
    "    \n",
    "    clf = benchmark\n",
    "    results[\"Benchmark\"]= benchmark\n",
    "    \n",
    "    clf = nb\n",
    "    results[\"Naive Bayes\"]=test_model(clf)\n",
    "    \n",
    "    clf = rf_random.best_estimator_\n",
    "    results[\"Random Forest\"]=test_model(clf)\n",
    "    \n",
    "    clf = svc_random.best_estimator_\n",
    "    results[\"Linear svc\"]=test_model(clf)\n",
    "\n",
    "        \n",
    "    \n",
    "    results = pd.DataFrame.from_dict(results, orient='index')\n",
    "    results.columns=['Accuracy']\n",
    "    results = pd.DataFrame(results['Accuracy'].sort_values(ascending=False))\n",
    "    results.plot(kind=\"bar\",title=\"Model Scores\")\n",
    "    axes = plt.gca()\n",
    "    \n",
    "    return results"
   ]
  },
  {
   "cell_type": "code",
   "execution_count": 152,
   "metadata": {},
   "outputs": [
    {
     "data": {
      "text/html": [
       "<div>\n",
       "<style scoped>\n",
       "    .dataframe tbody tr th:only-of-type {\n",
       "        vertical-align: middle;\n",
       "    }\n",
       "\n",
       "    .dataframe tbody tr th {\n",
       "        vertical-align: top;\n",
       "    }\n",
       "\n",
       "    .dataframe thead th {\n",
       "        text-align: right;\n",
       "    }\n",
       "</style>\n",
       "<table border=\"1\" class=\"dataframe\">\n",
       "  <thead>\n",
       "    <tr style=\"text-align: right;\">\n",
       "      <th></th>\n",
       "      <th>Accuracy</th>\n",
       "    </tr>\n",
       "  </thead>\n",
       "  <tbody>\n",
       "    <tr>\n",
       "      <th>Linear svc</th>\n",
       "      <td>0.4497</td>\n",
       "    </tr>\n",
       "    <tr>\n",
       "      <th>Random Forest</th>\n",
       "      <td>0.4243</td>\n",
       "    </tr>\n",
       "    <tr>\n",
       "      <th>Naive Bayes</th>\n",
       "      <td>0.3659</td>\n",
       "    </tr>\n",
       "    <tr>\n",
       "      <th>Benchmark</th>\n",
       "      <td>0.2000</td>\n",
       "    </tr>\n",
       "  </tbody>\n",
       "</table>\n",
       "</div>"
      ],
      "text/plain": [
       "               Accuracy\n",
       "Linear svc       0.4497\n",
       "Random Forest    0.4243\n",
       "Naive Bayes      0.3659\n",
       "Benchmark        0.2000"
      ]
     },
     "execution_count": 152,
     "metadata": {},
     "output_type": "execute_result"
    },
    {
     "data": {
      "image/png": "[encoded data removed]",
      "text/plain": [
       "<Figure size 432x288 with 1 Axes>"
      ]
     },
     "metadata": {},
     "output_type": "display_data"
    }
   ],
   "source": [
    "comparar_modelos(X_test, y_test)"
   ]
  },
  {
   "cell_type": "markdown",
   "metadata": {},
   "source": [
    "Según lo observado en el gráfico, el modelo que mejor se ajusta al problema es el LinearSVC con una exactitud aprox de 45%, más del doble del modelo Benchmark elegido. "
   ]
  },
  {
   "cell_type": "markdown",
   "metadata": {},
   "source": [
    "### Conclusiones sobre los resultados\n",
    "\n",
    "Luego de probar los modelos elegidos podemos afirmar que, sobre la base de las métricas elegidas el modelo que mejor clasifica el número de estrellas es el LinearSVC.\n",
    "En relación a los resultados obtenidos en las matrices de confusión, podríamos obtener mejores resultados si llevamos las calificaciones a variables categóricas binarias, positivas o negativas.\n",
    "Todos los modelos clasifican mejor en ambos extremos de las críticas, con 1 y 5 estrellas y tienen problemas en clasificar las críticas con 2 y 4 estrellas. \n",
    "Asimismo, se pueden realizar análisis más profundos sobre qué palabras se asocian a valores positivos y negativos. Se podrían utilizar otras técnicas de análisis para entender la sensibilidad del modelo al clasificar las críticas.\n",
    "Posiblemente se obtengan mejores resultados al tener una frontera de decisión más simple. "
   ]
  },
  {
   "cell_type": "markdown",
   "metadata": {},
   "source": [
    "### Temas a trabajar e investigar para el proyecto final\n",
    "\n",
    "Como objetivo para el trabajo final propongo los siguientes objetivos\n",
    "\n",
    "1. Utilizar las biblioteca SPacy para Lemmatizar en español.\n",
    "\n",
    "2. Realizar un TF-IDF utilizando como guía el capítulo 6.3 Word Frequencies with TfidfVectorizer, del libro \"Deep Learning for Natural Language Processing\" de Jason Brownlee\n",
    "\n",
    "3. Llevar las variables a clasificar a un tipo binario de críticas positivas y negativas y comparar resultados.\n",
    "\n",
    "4. Sumar el Modelos XGBoostClassifier para comparar rendimientos.\n"
   ]
  },
  {
   "cell_type": "markdown",
   "metadata": {},
   "source": [
    "### Adelanto para el trabajo final\n",
    "A continuación realizaremos una prueba con las variables discretas a variables binarias, es decir si son críticas positivas o negativas. \n",
    "Si bien con una columna es suficiente, generamos dos para facilitar luego el análisis exploratorio."
   ]
  },
  {
   "cell_type": "code",
   "execution_count": 162,
   "metadata": {},
   "outputs": [],
   "source": [
    "# Pasamos las variables multiclase a binarias\n",
    "df['critica_negativa'] = df['stars'].apply(lambda x: 1 if x < 5 else 0)\n",
    "df['critica_positiva'] = df['stars'].apply(lambda x: 0 if x < 5 else 1)"
   ]
  },
  {
   "cell_type": "code",
   "execution_count": 154,
   "metadata": {},
   "outputs": [
    {
     "data": {
      "text/html": [
       "<div>\n",
       "<style scoped>\n",
       "    .dataframe tbody tr th:only-of-type {\n",
       "        vertical-align: middle;\n",
       "    }\n",
       "\n",
       "    .dataframe tbody tr th {\n",
       "        vertical-align: top;\n",
       "    }\n",
       "\n",
       "    .dataframe thead th {\n",
       "        text-align: right;\n",
       "    }\n",
       "</style>\n",
       "<table border=\"1\" class=\"dataframe\">\n",
       "  <thead>\n",
       "    <tr style=\"text-align: right;\">\n",
       "      <th></th>\n",
       "      <th>product_id</th>\n",
       "      <th>reviewer_id</th>\n",
       "      <th>stars</th>\n",
       "      <th>text_length</th>\n",
       "      <th>nb_words</th>\n",
       "      <th>criticas_stem</th>\n",
       "      <th>apparel</th>\n",
       "      <th>automotive</th>\n",
       "      <th>baby_product</th>\n",
       "      <th>beauty</th>\n",
       "      <th>...</th>\n",
       "      <th>personal_care_appliances</th>\n",
       "      <th>pet_products</th>\n",
       "      <th>shoes</th>\n",
       "      <th>sports</th>\n",
       "      <th>toy</th>\n",
       "      <th>video_games</th>\n",
       "      <th>watch</th>\n",
       "      <th>wireless</th>\n",
       "      <th>critica_negativa</th>\n",
       "      <th>critica_positiva</th>\n",
       "    </tr>\n",
       "  </thead>\n",
       "  <tbody>\n",
       "    <tr>\n",
       "      <th>6468</th>\n",
       "      <td>0773990</td>\n",
       "      <td>0443238</td>\n",
       "      <td>1</td>\n",
       "      <td>101</td>\n",
       "      <td>21</td>\n",
       "      <td>espera llegu tre fecha entrega primera pasa am...</td>\n",
       "      <td>0</td>\n",
       "      <td>0</td>\n",
       "      <td>0</td>\n",
       "      <td>0</td>\n",
       "      <td>...</td>\n",
       "      <td>0</td>\n",
       "      <td>0</td>\n",
       "      <td>0</td>\n",
       "      <td>0</td>\n",
       "      <td>0</td>\n",
       "      <td>0</td>\n",
       "      <td>0</td>\n",
       "      <td>0</td>\n",
       "      <td>1</td>\n",
       "      <td>0</td>\n",
       "    </tr>\n",
       "    <tr>\n",
       "      <th>14064</th>\n",
       "      <td>0019996</td>\n",
       "      <td>0925676</td>\n",
       "      <td>1</td>\n",
       "      <td>325</td>\n",
       "      <td>61</td>\n",
       "      <td>producto bien montar precio razon compr nico p...</td>\n",
       "      <td>0</td>\n",
       "      <td>0</td>\n",
       "      <td>0</td>\n",
       "      <td>0</td>\n",
       "      <td>...</td>\n",
       "      <td>0</td>\n",
       "      <td>0</td>\n",
       "      <td>0</td>\n",
       "      <td>0</td>\n",
       "      <td>0</td>\n",
       "      <td>0</td>\n",
       "      <td>0</td>\n",
       "      <td>0</td>\n",
       "      <td>1</td>\n",
       "      <td>0</td>\n",
       "    </tr>\n",
       "    <tr>\n",
       "      <th>20862</th>\n",
       "      <td>0301699</td>\n",
       "      <td>0468082</td>\n",
       "      <td>1</td>\n",
       "      <td>77</td>\n",
       "      <td>15</td>\n",
       "      <td>despu mese recibido diadema devuelto dinero</td>\n",
       "      <td>1</td>\n",
       "      <td>0</td>\n",
       "      <td>0</td>\n",
       "      <td>0</td>\n",
       "      <td>...</td>\n",
       "      <td>0</td>\n",
       "      <td>0</td>\n",
       "      <td>0</td>\n",
       "      <td>0</td>\n",
       "      <td>0</td>\n",
       "      <td>0</td>\n",
       "      <td>0</td>\n",
       "      <td>0</td>\n",
       "      <td>1</td>\n",
       "      <td>0</td>\n",
       "    </tr>\n",
       "    <tr>\n",
       "      <th>35994</th>\n",
       "      <td>0778859</td>\n",
       "      <td>0824370</td>\n",
       "      <td>1</td>\n",
       "      <td>44</td>\n",
       "      <td>7</td>\n",
       "      <td>mandan culo haberlo pagado</td>\n",
       "      <td>0</td>\n",
       "      <td>0</td>\n",
       "      <td>0</td>\n",
       "      <td>0</td>\n",
       "      <td>...</td>\n",
       "      <td>0</td>\n",
       "      <td>0</td>\n",
       "      <td>0</td>\n",
       "      <td>0</td>\n",
       "      <td>0</td>\n",
       "      <td>0</td>\n",
       "      <td>0</td>\n",
       "      <td>0</td>\n",
       "      <td>1</td>\n",
       "      <td>0</td>\n",
       "    </tr>\n",
       "    <tr>\n",
       "      <th>27746</th>\n",
       "      <td>0261843</td>\n",
       "      <td>0782745</td>\n",
       "      <td>1</td>\n",
       "      <td>111</td>\n",
       "      <td>22</td>\n",
       "      <td>producto llegado llegar mayo sigo esperando es...</td>\n",
       "      <td>0</td>\n",
       "      <td>0</td>\n",
       "      <td>0</td>\n",
       "      <td>0</td>\n",
       "      <td>...</td>\n",
       "      <td>0</td>\n",
       "      <td>0</td>\n",
       "      <td>0</td>\n",
       "      <td>0</td>\n",
       "      <td>1</td>\n",
       "      <td>0</td>\n",
       "      <td>0</td>\n",
       "      <td>0</td>\n",
       "      <td>1</td>\n",
       "      <td>0</td>\n",
       "    </tr>\n",
       "  </tbody>\n",
       "</table>\n",
       "<p>5 rows × 38 columns</p>\n",
       "</div>"
      ],
      "text/plain": [
       "      product_id reviewer_id  stars  text_length  nb_words  \\\n",
       "6468     0773990     0443238      1          101        21   \n",
       "14064    0019996     0925676      1          325        61   \n",
       "20862    0301699     0468082      1           77        15   \n",
       "35994    0778859     0824370      1           44         7   \n",
       "27746    0261843     0782745      1          111        22   \n",
       "\n",
       "                                           criticas_stem  apparel  automotive  \\\n",
       "6468   espera llegu tre fecha entrega primera pasa am...        0           0   \n",
       "14064  producto bien montar precio razon compr nico p...        0           0   \n",
       "20862        despu mese recibido diadema devuelto dinero        1           0   \n",
       "35994                         mandan culo haberlo pagado        0           0   \n",
       "27746  producto llegado llegar mayo sigo esperando es...        0           0   \n",
       "\n",
       "       baby_product  beauty  ...  personal_care_appliances  pet_products  \\\n",
       "6468              0       0  ...                         0             0   \n",
       "14064             0       0  ...                         0             0   \n",
       "20862             0       0  ...                         0             0   \n",
       "35994             0       0  ...                         0             0   \n",
       "27746             0       0  ...                         0             0   \n",
       "\n",
       "       shoes  sports  toy  video_games  watch  wireless  critica_negativa  \\\n",
       "6468       0       0    0            0      0         0                 1   \n",
       "14064      0       0    0            0      0         0                 1   \n",
       "20862      0       0    0            0      0         0                 1   \n",
       "35994      0       0    0            0      0         0                 1   \n",
       "27746      0       0    1            0      0         0                 1   \n",
       "\n",
       "       critica_positiva  \n",
       "6468                  0  \n",
       "14064                 0  \n",
       "20862                 0  \n",
       "35994                 0  \n",
       "27746                 0  \n",
       "\n",
       "[5 rows x 38 columns]"
      ]
     },
     "execution_count": 154,
     "metadata": {},
     "output_type": "execute_result"
    }
   ],
   "source": [
    "df.head()"
   ]
  },
  {
   "cell_type": "code",
   "execution_count": 155,
   "metadata": {},
   "outputs": [],
   "source": [
    "# Instanciamos las variables\n",
    "X = matriz_criticas.toarray()\n",
    "y = df.critica_negativa"
   ]
  },
  {
   "cell_type": "code",
   "execution_count": 156,
   "metadata": {},
   "outputs": [],
   "source": [
    "# Hacemos un train test split\n",
    "X_train, X_test, y_train, y_test = train_test_split(X, y, test_size=0.2, random_state=42, stratify=y)"
   ]
  },
  {
   "cell_type": "code",
   "execution_count": 159,
   "metadata": {},
   "outputs": [],
   "source": [
    "# Instanciamos el modelo\n",
    "svc = LinearSVC()"
   ]
  },
  {
   "cell_type": "code",
   "execution_count": 160,
   "metadata": {},
   "outputs": [
    {
     "data": {
      "text/plain": [
       "LinearSVC()"
      ]
     },
     "execution_count": 160,
     "metadata": {},
     "output_type": "execute_result"
    }
   ],
   "source": [
    "# Entrenamos\n",
    "svc.fit(X_train, y_train)"
   ]
  },
  {
   "cell_type": "code",
   "execution_count": 161,
   "metadata": {},
   "outputs": [
    {
     "name": "stdout",
     "output_type": "stream",
     "text": [
      "La exactitud del modelo LinearSVC es :  0.8351\n"
     ]
    }
   ],
   "source": [
    "# Imprimimos la métrica elegida (accuracy)\n",
    "print(\"La exactitud del modelo LinearSVC es : \", svc.score(X_test, y_test))"
   ]
  },
  {
   "cell_type": "markdown",
   "metadata": {},
   "source": [
    "Obtuvimos un mejor resultado, aún sin optimizar los hiperparámetros del modelo. Posiblemente sea un buen comienzo para continuar desarrollando en el trabajo final."
   ]
  }
 ],
 "metadata": {
  "kernelspec": {
   "display_name": "Python 3",
   "language": "python",
   "name": "python3"
  },
  "language_info": {
   "codemirror_mode": {
    "name": "ipython",
    "version": 3
   },
   "file_extension": ".py",
   "mimetype": "text/x-python",
   "name": "python",
   "nbconvert_exporter": "python",
   "pygments_lexer": "ipython3",
   "version": "3.8.3"
  }
 },
 "nbformat": 4,
 "nbformat_minor": 4
}
